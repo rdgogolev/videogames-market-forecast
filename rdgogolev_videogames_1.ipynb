{
 "cells": [
  {
   "cell_type": "markdown",
   "id": "2d42217c",
   "metadata": {},
   "source": [
    "# Исследование успешности видеоигр\n",
    "\n",
    "Представим, что мы работаем в интернет-магазине «Стримчик», который продаёт по всему миру компьютерные игры.   \n",
    "Из открытых источников доступны исторические данные о продажах игр, оценки пользователей и экспертов, жанры и платформы (например, Xbox или PlayStation).   \n",
    "Проведём исследование, чтобы выявить определяющие успешность игры закономерности. Это позволит сделать ставку на потенциально популярный продукт и спланировать рекламные кампании.   \n",
    "Перед нами данные до 2016 года. Представим, что сейчас декабрь 2016 г., и мы планируем кампанию на 2017-й.   "
   ]
  },
  {
   "cell_type": "markdown",
   "id": "f27902fe",
   "metadata": {},
   "source": [
    "## 1. Откроем файл с данными и изучим общую информацию"
   ]
  },
  {
   "cell_type": "code",
   "execution_count": 17,
   "id": "fb22ada7",
   "metadata": {},
   "outputs": [],
   "source": [
    "import pandas as pd"
   ]
  },
  {
   "cell_type": "code",
   "execution_count": 18,
   "id": "8685382b",
   "metadata": {},
   "outputs": [
    {
     "data": {
      "text/html": [
       "<div>\n",
       "<style scoped>\n",
       "    .dataframe tbody tr th:only-of-type {\n",
       "        vertical-align: middle;\n",
       "    }\n",
       "\n",
       "    .dataframe tbody tr th {\n",
       "        vertical-align: top;\n",
       "    }\n",
       "\n",
       "    .dataframe thead th {\n",
       "        text-align: right;\n",
       "    }\n",
       "</style>\n",
       "<table border=\"1\" class=\"dataframe\">\n",
       "  <thead>\n",
       "    <tr style=\"text-align: right;\">\n",
       "      <th></th>\n",
       "      <th>Name</th>\n",
       "      <th>Platform</th>\n",
       "      <th>Year_of_Release</th>\n",
       "      <th>Genre</th>\n",
       "      <th>NA_sales</th>\n",
       "      <th>EU_sales</th>\n",
       "      <th>JP_sales</th>\n",
       "      <th>Other_sales</th>\n",
       "      <th>Critic_Score</th>\n",
       "      <th>User_Score</th>\n",
       "      <th>Rating</th>\n",
       "    </tr>\n",
       "  </thead>\n",
       "  <tbody>\n",
       "    <tr>\n",
       "      <th>0</th>\n",
       "      <td>Wii Sports</td>\n",
       "      <td>Wii</td>\n",
       "      <td>2006.0</td>\n",
       "      <td>Sports</td>\n",
       "      <td>41.36</td>\n",
       "      <td>28.96</td>\n",
       "      <td>3.77</td>\n",
       "      <td>8.45</td>\n",
       "      <td>76.0</td>\n",
       "      <td>8</td>\n",
       "      <td>E</td>\n",
       "    </tr>\n",
       "    <tr>\n",
       "      <th>1</th>\n",
       "      <td>Super Mario Bros.</td>\n",
       "      <td>NES</td>\n",
       "      <td>1985.0</td>\n",
       "      <td>Platform</td>\n",
       "      <td>29.08</td>\n",
       "      <td>3.58</td>\n",
       "      <td>6.81</td>\n",
       "      <td>0.77</td>\n",
       "      <td>NaN</td>\n",
       "      <td>NaN</td>\n",
       "      <td>NaN</td>\n",
       "    </tr>\n",
       "    <tr>\n",
       "      <th>2</th>\n",
       "      <td>Mario Kart Wii</td>\n",
       "      <td>Wii</td>\n",
       "      <td>2008.0</td>\n",
       "      <td>Racing</td>\n",
       "      <td>15.68</td>\n",
       "      <td>12.76</td>\n",
       "      <td>3.79</td>\n",
       "      <td>3.29</td>\n",
       "      <td>82.0</td>\n",
       "      <td>8.3</td>\n",
       "      <td>E</td>\n",
       "    </tr>\n",
       "    <tr>\n",
       "      <th>3</th>\n",
       "      <td>Wii Sports Resort</td>\n",
       "      <td>Wii</td>\n",
       "      <td>2009.0</td>\n",
       "      <td>Sports</td>\n",
       "      <td>15.61</td>\n",
       "      <td>10.93</td>\n",
       "      <td>3.28</td>\n",
       "      <td>2.95</td>\n",
       "      <td>80.0</td>\n",
       "      <td>8</td>\n",
       "      <td>E</td>\n",
       "    </tr>\n",
       "    <tr>\n",
       "      <th>4</th>\n",
       "      <td>Pokemon Red/Pokemon Blue</td>\n",
       "      <td>GB</td>\n",
       "      <td>1996.0</td>\n",
       "      <td>Role-Playing</td>\n",
       "      <td>11.27</td>\n",
       "      <td>8.89</td>\n",
       "      <td>10.22</td>\n",
       "      <td>1.00</td>\n",
       "      <td>NaN</td>\n",
       "      <td>NaN</td>\n",
       "      <td>NaN</td>\n",
       "    </tr>\n",
       "    <tr>\n",
       "      <th>5</th>\n",
       "      <td>Tetris</td>\n",
       "      <td>GB</td>\n",
       "      <td>1989.0</td>\n",
       "      <td>Puzzle</td>\n",
       "      <td>23.20</td>\n",
       "      <td>2.26</td>\n",
       "      <td>4.22</td>\n",
       "      <td>0.58</td>\n",
       "      <td>NaN</td>\n",
       "      <td>NaN</td>\n",
       "      <td>NaN</td>\n",
       "    </tr>\n",
       "    <tr>\n",
       "      <th>6</th>\n",
       "      <td>New Super Mario Bros.</td>\n",
       "      <td>DS</td>\n",
       "      <td>2006.0</td>\n",
       "      <td>Platform</td>\n",
       "      <td>11.28</td>\n",
       "      <td>9.14</td>\n",
       "      <td>6.50</td>\n",
       "      <td>2.88</td>\n",
       "      <td>89.0</td>\n",
       "      <td>8.5</td>\n",
       "      <td>E</td>\n",
       "    </tr>\n",
       "    <tr>\n",
       "      <th>7</th>\n",
       "      <td>Wii Play</td>\n",
       "      <td>Wii</td>\n",
       "      <td>2006.0</td>\n",
       "      <td>Misc</td>\n",
       "      <td>13.96</td>\n",
       "      <td>9.18</td>\n",
       "      <td>2.93</td>\n",
       "      <td>2.84</td>\n",
       "      <td>58.0</td>\n",
       "      <td>6.6</td>\n",
       "      <td>E</td>\n",
       "    </tr>\n",
       "    <tr>\n",
       "      <th>8</th>\n",
       "      <td>New Super Mario Bros. Wii</td>\n",
       "      <td>Wii</td>\n",
       "      <td>2009.0</td>\n",
       "      <td>Platform</td>\n",
       "      <td>14.44</td>\n",
       "      <td>6.94</td>\n",
       "      <td>4.70</td>\n",
       "      <td>2.24</td>\n",
       "      <td>87.0</td>\n",
       "      <td>8.4</td>\n",
       "      <td>E</td>\n",
       "    </tr>\n",
       "    <tr>\n",
       "      <th>9</th>\n",
       "      <td>Duck Hunt</td>\n",
       "      <td>NES</td>\n",
       "      <td>1984.0</td>\n",
       "      <td>Shooter</td>\n",
       "      <td>26.93</td>\n",
       "      <td>0.63</td>\n",
       "      <td>0.28</td>\n",
       "      <td>0.47</td>\n",
       "      <td>NaN</td>\n",
       "      <td>NaN</td>\n",
       "      <td>NaN</td>\n",
       "    </tr>\n",
       "  </tbody>\n",
       "</table>\n",
       "</div>"
      ],
      "text/plain": [
       "                        Name Platform  Year_of_Release         Genre  \\\n",
       "0                 Wii Sports      Wii           2006.0        Sports   \n",
       "1          Super Mario Bros.      NES           1985.0      Platform   \n",
       "2             Mario Kart Wii      Wii           2008.0        Racing   \n",
       "3          Wii Sports Resort      Wii           2009.0        Sports   \n",
       "4   Pokemon Red/Pokemon Blue       GB           1996.0  Role-Playing   \n",
       "5                     Tetris       GB           1989.0        Puzzle   \n",
       "6      New Super Mario Bros.       DS           2006.0      Platform   \n",
       "7                   Wii Play      Wii           2006.0          Misc   \n",
       "8  New Super Mario Bros. Wii      Wii           2009.0      Platform   \n",
       "9                  Duck Hunt      NES           1984.0       Shooter   \n",
       "\n",
       "   NA_sales  EU_sales  JP_sales  Other_sales  Critic_Score User_Score Rating  \n",
       "0     41.36     28.96      3.77         8.45          76.0          8      E  \n",
       "1     29.08      3.58      6.81         0.77           NaN        NaN    NaN  \n",
       "2     15.68     12.76      3.79         3.29          82.0        8.3      E  \n",
       "3     15.61     10.93      3.28         2.95          80.0          8      E  \n",
       "4     11.27      8.89     10.22         1.00           NaN        NaN    NaN  \n",
       "5     23.20      2.26      4.22         0.58           NaN        NaN    NaN  \n",
       "6     11.28      9.14      6.50         2.88          89.0        8.5      E  \n",
       "7     13.96      9.18      2.93         2.84          58.0        6.6      E  \n",
       "8     14.44      6.94      4.70         2.24          87.0        8.4      E  \n",
       "9     26.93      0.63      0.28         0.47           NaN        NaN    NaN  "
      ]
     },
     "metadata": {},
     "output_type": "display_data"
    },
    {
     "data": {
      "text/html": [
       "<div>\n",
       "<style scoped>\n",
       "    .dataframe tbody tr th:only-of-type {\n",
       "        vertical-align: middle;\n",
       "    }\n",
       "\n",
       "    .dataframe tbody tr th {\n",
       "        vertical-align: top;\n",
       "    }\n",
       "\n",
       "    .dataframe thead th {\n",
       "        text-align: right;\n",
       "    }\n",
       "</style>\n",
       "<table border=\"1\" class=\"dataframe\">\n",
       "  <thead>\n",
       "    <tr style=\"text-align: right;\">\n",
       "      <th></th>\n",
       "      <th>Name</th>\n",
       "      <th>Platform</th>\n",
       "      <th>Year_of_Release</th>\n",
       "      <th>Genre</th>\n",
       "      <th>NA_sales</th>\n",
       "      <th>EU_sales</th>\n",
       "      <th>JP_sales</th>\n",
       "      <th>Other_sales</th>\n",
       "      <th>Critic_Score</th>\n",
       "      <th>User_Score</th>\n",
       "      <th>Rating</th>\n",
       "    </tr>\n",
       "  </thead>\n",
       "  <tbody>\n",
       "    <tr>\n",
       "      <th>1243</th>\n",
       "      <td>Dead Space 2</td>\n",
       "      <td>X360</td>\n",
       "      <td>2011.0</td>\n",
       "      <td>Shooter</td>\n",
       "      <td>0.94</td>\n",
       "      <td>0.44</td>\n",
       "      <td>0.00</td>\n",
       "      <td>0.13</td>\n",
       "      <td>90.0</td>\n",
       "      <td>8.6</td>\n",
       "      <td>M</td>\n",
       "    </tr>\n",
       "    <tr>\n",
       "      <th>6764</th>\n",
       "      <td>Dora the Explorer: Journey to the Purple Planet</td>\n",
       "      <td>PS2</td>\n",
       "      <td>2005.0</td>\n",
       "      <td>Adventure</td>\n",
       "      <td>0.12</td>\n",
       "      <td>0.09</td>\n",
       "      <td>0.00</td>\n",
       "      <td>0.03</td>\n",
       "      <td>NaN</td>\n",
       "      <td>7</td>\n",
       "      <td>EC</td>\n",
       "    </tr>\n",
       "    <tr>\n",
       "      <th>14348</th>\n",
       "      <td>Gotouchi Kenkei DS</td>\n",
       "      <td>DS</td>\n",
       "      <td>2006.0</td>\n",
       "      <td>Misc</td>\n",
       "      <td>0.00</td>\n",
       "      <td>0.00</td>\n",
       "      <td>0.03</td>\n",
       "      <td>0.00</td>\n",
       "      <td>NaN</td>\n",
       "      <td>NaN</td>\n",
       "      <td>NaN</td>\n",
       "    </tr>\n",
       "    <tr>\n",
       "      <th>7433</th>\n",
       "      <td>Batman Begins</td>\n",
       "      <td>XB</td>\n",
       "      <td>2005.0</td>\n",
       "      <td>Action</td>\n",
       "      <td>0.16</td>\n",
       "      <td>0.04</td>\n",
       "      <td>0.00</td>\n",
       "      <td>0.01</td>\n",
       "      <td>65.0</td>\n",
       "      <td>7.1</td>\n",
       "      <td>T</td>\n",
       "    </tr>\n",
       "    <tr>\n",
       "      <th>537</th>\n",
       "      <td>Skylanders: Spyro's Adventure</td>\n",
       "      <td>Wii</td>\n",
       "      <td>2011.0</td>\n",
       "      <td>Action</td>\n",
       "      <td>1.35</td>\n",
       "      <td>1.13</td>\n",
       "      <td>0.00</td>\n",
       "      <td>0.30</td>\n",
       "      <td>81.0</td>\n",
       "      <td>5.6</td>\n",
       "      <td>E10+</td>\n",
       "    </tr>\n",
       "  </tbody>\n",
       "</table>\n",
       "</div>"
      ],
      "text/plain": [
       "                                                  Name Platform  \\\n",
       "1243                                      Dead Space 2     X360   \n",
       "6764   Dora the Explorer: Journey to the Purple Planet      PS2   \n",
       "14348                               Gotouchi Kenkei DS       DS   \n",
       "7433                                     Batman Begins       XB   \n",
       "537                      Skylanders: Spyro's Adventure      Wii   \n",
       "\n",
       "       Year_of_Release      Genre  NA_sales  EU_sales  JP_sales  Other_sales  \\\n",
       "1243            2011.0    Shooter      0.94      0.44      0.00         0.13   \n",
       "6764            2005.0  Adventure      0.12      0.09      0.00         0.03   \n",
       "14348           2006.0       Misc      0.00      0.00      0.03         0.00   \n",
       "7433            2005.0     Action      0.16      0.04      0.00         0.01   \n",
       "537             2011.0     Action      1.35      1.13      0.00         0.30   \n",
       "\n",
       "       Critic_Score User_Score Rating  \n",
       "1243           90.0        8.6      M  \n",
       "6764            NaN          7     EC  \n",
       "14348           NaN        NaN    NaN  \n",
       "7433           65.0        7.1      T  \n",
       "537            81.0        5.6   E10+  "
      ]
     },
     "execution_count": 18,
     "metadata": {},
     "output_type": "execute_result"
    }
   ],
   "source": [
    "data = pd.read_csv('games.csv')\n",
    "display(data.head(10))\n",
    "data.sample(5)"
   ]
  },
  {
   "cell_type": "code",
   "execution_count": 19,
   "id": "4d8be011",
   "metadata": {},
   "outputs": [
    {
     "name": "stdout",
     "output_type": "stream",
     "text": [
      "<class 'pandas.core.frame.DataFrame'>\n",
      "RangeIndex: 16715 entries, 0 to 16714\n",
      "Data columns (total 11 columns):\n",
      " #   Column           Non-Null Count  Dtype  \n",
      "---  ------           --------------  -----  \n",
      " 0   Name             16713 non-null  object \n",
      " 1   Platform         16715 non-null  object \n",
      " 2   Year_of_Release  16446 non-null  float64\n",
      " 3   Genre            16713 non-null  object \n",
      " 4   NA_sales         16715 non-null  float64\n",
      " 5   EU_sales         16715 non-null  float64\n",
      " 6   JP_sales         16715 non-null  float64\n",
      " 7   Other_sales      16715 non-null  float64\n",
      " 8   Critic_Score     8137 non-null   float64\n",
      " 9   User_Score       10014 non-null  object \n",
      " 10  Rating           9949 non-null   object \n",
      "dtypes: float64(6), object(5)\n",
      "memory usage: 1.4+ MB\n"
     ]
    }
   ],
   "source": [
    "data.info()"
   ]
  },
  {
   "cell_type": "markdown",
   "id": "03c3448d",
   "metadata": {},
   "source": [
    "Из полученной документации мы знаем, что столбцы содержат следующие значения:\n",
    "- `Name` — название игры\n",
    "- `Platform` — платформа\n",
    "- `Year_of_Release` — год выпуска\n",
    "- `Genre` — жанр игры\n",
    "- `NA_sales` — продажи в Северной Америке (миллионы проданных копий)\n",
    "- `EU_sales` — продажи в Европе (миллионы проданных копий)\n",
    "- `JP_sales` — продажи в Японии (миллионы проданных копий)\n",
    "- `Other_sales` — продажи в других странах (миллионы проданных копий)\n",
    "- `Critic_Score` — оценка критиков (максимум 100)\n",
    "- `User_Score` — оценка пользователей (максимум 10)\n",
    "- `Rating` — рейтинг от организации ESRB (англ. Entertainment Software Rating Board). Эта ассоциация определяет рейтинг компьютерных игр и присваивает им подходящую возрастную категорию (например, «Для взрослых», «Для детей младшего возраста» или «Для подростков»)."
   ]
  },
  {
   "cell_type": "markdown",
   "id": "4e525e05",
   "metadata": {},
   "source": [
    "Заменим названия столбцов (приведём к нижнему регистру):"
   ]
  },
  {
   "cell_type": "code",
   "execution_count": 20,
   "id": "82037f3d",
   "metadata": {},
   "outputs": [],
   "source": [
    "data.columns= data.columns.str.lower()"
   ]
  },
  {
   "cell_type": "markdown",
   "id": "f70b219c",
   "metadata": {},
   "source": [
    "## 2. Подготовим данные для исследования"
   ]
  },
  {
   "cell_type": "markdown",
   "id": "2df157d9",
   "metadata": {},
   "source": [
    "### 2.1. Преобразуем данные в нужные типы   \n",
    "Преобразования данные в столбце `user_score`."
   ]
  },
  {
   "cell_type": "markdown",
   "id": "d6743116",
   "metadata": {},
   "source": [
    "Предварительно ознакомимся с уникальными значениями столбца `user_score`. Возможно, в нём содержатся текстовые значения."
   ]
  },
  {
   "cell_type": "code",
   "execution_count": 21,
   "id": "b780da4b",
   "metadata": {},
   "outputs": [
    {
     "data": {
      "text/plain": [
       "array(['8', nan, '8.3', '8.5', '6.6', '8.4', '8.6', '7.7', '6.3', '7.4',\n",
       "       '8.2', '9', '7.9', '8.1', '8.7', '7.1', '3.4', '5.3', '4.8', '3.2',\n",
       "       '8.9', '6.4', '7.8', '7.5', '2.6', '7.2', '9.2', '7', '7.3', '4.3',\n",
       "       '7.6', '5.7', '5', '9.1', '6.5', 'tbd', '8.8', '6.9', '9.4', '6.8',\n",
       "       '6.1', '6.7', '5.4', '4', '4.9', '4.5', '9.3', '6.2', '4.2', '6',\n",
       "       '3.7', '4.1', '5.8', '5.6', '5.5', '4.4', '4.6', '5.9', '3.9',\n",
       "       '3.1', '2.9', '5.2', '3.3', '4.7', '5.1', '3.5', '2.5', '1.9', '3',\n",
       "       '2.7', '2.2', '2', '9.5', '2.1', '3.6', '2.8', '1.8', '3.8', '0',\n",
       "       '1.6', '9.6', '2.4', '1.7', '1.1', '0.3', '1.5', '0.7', '1.2',\n",
       "       '2.3', '0.5', '1.3', '0.2', '0.6', '1.4', '0.9', '1', '9.7'],\n",
       "      dtype=object)"
      ]
     },
     "execution_count": 21,
     "metadata": {},
     "output_type": "execute_result"
    }
   ],
   "source": [
    "data['user_score'].unique()"
   ]
  },
  {
   "cell_type": "code",
   "execution_count": 22,
   "id": "42e9d946",
   "metadata": {},
   "outputs": [
    {
     "data": {
      "text/plain": [
       "tbd    2424\n",
       "7.8     324\n",
       "8       290\n",
       "8.2     282\n",
       "8.3     254\n",
       "       ... \n",
       "1.1       2\n",
       "1.9       2\n",
       "9.6       2\n",
       "0         1\n",
       "9.7       1\n",
       "Name: user_score, Length: 96, dtype: int64"
      ]
     },
     "execution_count": 22,
     "metadata": {},
     "output_type": "execute_result"
    }
   ],
   "source": [
    "data['user_score'].value_counts()"
   ]
  },
  {
   "cell_type": "markdown",
   "id": "916a736b",
   "metadata": {},
   "source": [
    "Мы видим значение **\"tbd\"**, которое чаще всего встречается в датасете. Скорее всего, это аббревиатура \"to be determined\", что может означать, что пользователь не указал свою оценку.   \n",
    "С помощью метода to_numeric изменим тип данных на float, а вместо \"tbd\" пока оставим пропуски."
   ]
  },
  {
   "cell_type": "code",
   "execution_count": 23,
   "id": "f4b91b2b",
   "metadata": {},
   "outputs": [],
   "source": [
    "data['user_score'] = pd.to_numeric(data['user_score'], errors='coerce')"
   ]
  },
  {
   "cell_type": "markdown",
   "id": "a1068a71",
   "metadata": {},
   "source": [
    "### 2.2. Обработаем пропуски"
   ]
  },
  {
   "cell_type": "markdown",
   "id": "b413372a",
   "metadata": {},
   "source": [
    "Посмотрим на два пропуска в столбце `name`."
   ]
  },
  {
   "cell_type": "code",
   "execution_count": 24,
   "id": "5c166fe9",
   "metadata": {},
   "outputs": [
    {
     "data": {
      "text/html": [
       "<div>\n",
       "<style scoped>\n",
       "    .dataframe tbody tr th:only-of-type {\n",
       "        vertical-align: middle;\n",
       "    }\n",
       "\n",
       "    .dataframe tbody tr th {\n",
       "        vertical-align: top;\n",
       "    }\n",
       "\n",
       "    .dataframe thead th {\n",
       "        text-align: right;\n",
       "    }\n",
       "</style>\n",
       "<table border=\"1\" class=\"dataframe\">\n",
       "  <thead>\n",
       "    <tr style=\"text-align: right;\">\n",
       "      <th></th>\n",
       "      <th>name</th>\n",
       "      <th>platform</th>\n",
       "      <th>year_of_release</th>\n",
       "      <th>genre</th>\n",
       "      <th>na_sales</th>\n",
       "      <th>eu_sales</th>\n",
       "      <th>jp_sales</th>\n",
       "      <th>other_sales</th>\n",
       "      <th>critic_score</th>\n",
       "      <th>user_score</th>\n",
       "      <th>rating</th>\n",
       "    </tr>\n",
       "  </thead>\n",
       "  <tbody>\n",
       "    <tr>\n",
       "      <th>659</th>\n",
       "      <td>NaN</td>\n",
       "      <td>GEN</td>\n",
       "      <td>1993.0</td>\n",
       "      <td>NaN</td>\n",
       "      <td>1.78</td>\n",
       "      <td>0.53</td>\n",
       "      <td>0.00</td>\n",
       "      <td>0.08</td>\n",
       "      <td>NaN</td>\n",
       "      <td>NaN</td>\n",
       "      <td>NaN</td>\n",
       "    </tr>\n",
       "    <tr>\n",
       "      <th>14244</th>\n",
       "      <td>NaN</td>\n",
       "      <td>GEN</td>\n",
       "      <td>1993.0</td>\n",
       "      <td>NaN</td>\n",
       "      <td>0.00</td>\n",
       "      <td>0.00</td>\n",
       "      <td>0.03</td>\n",
       "      <td>0.00</td>\n",
       "      <td>NaN</td>\n",
       "      <td>NaN</td>\n",
       "      <td>NaN</td>\n",
       "    </tr>\n",
       "  </tbody>\n",
       "</table>\n",
       "</div>"
      ],
      "text/plain": [
       "      name platform  year_of_release genre  na_sales  eu_sales  jp_sales  \\\n",
       "659    NaN      GEN           1993.0   NaN      1.78      0.53      0.00   \n",
       "14244  NaN      GEN           1993.0   NaN      0.00      0.00      0.03   \n",
       "\n",
       "       other_sales  critic_score  user_score rating  \n",
       "659           0.08           NaN         NaN    NaN  \n",
       "14244         0.00           NaN         NaN    NaN  "
      ]
     },
     "execution_count": 24,
     "metadata": {},
     "output_type": "execute_result"
    }
   ],
   "source": [
    "data[data['name'].isna()]"
   ]
  },
  {
   "cell_type": "markdown",
   "id": "2c546875",
   "metadata": {},
   "source": [
    "Мы не знаем, что это за игры, так как у нас нет их названия. В строках также нет информации о жанре и оценках, практически нулевые покатели продаж, далекий 1993 год релиза. Удалим эти строки."
   ]
  },
  {
   "cell_type": "code",
   "execution_count": 25,
   "id": "3a5539d4",
   "metadata": {},
   "outputs": [],
   "source": [
    "data = data[~data['name'].isna()]"
   ]
  },
  {
   "cell_type": "markdown",
   "id": "7bcbee89",
   "metadata": {},
   "source": [
    "Рассмотрим пропуски в столбце `year_of_release`."
   ]
  },
  {
   "cell_type": "code",
   "execution_count": 26,
   "id": "dffae217",
   "metadata": {},
   "outputs": [
    {
     "data": {
      "text/html": [
       "<div>\n",
       "<style scoped>\n",
       "    .dataframe tbody tr th:only-of-type {\n",
       "        vertical-align: middle;\n",
       "    }\n",
       "\n",
       "    .dataframe tbody tr th {\n",
       "        vertical-align: top;\n",
       "    }\n",
       "\n",
       "    .dataframe thead th {\n",
       "        text-align: right;\n",
       "    }\n",
       "</style>\n",
       "<table border=\"1\" class=\"dataframe\">\n",
       "  <thead>\n",
       "    <tr style=\"text-align: right;\">\n",
       "      <th></th>\n",
       "      <th>name</th>\n",
       "      <th>platform</th>\n",
       "      <th>year_of_release</th>\n",
       "      <th>genre</th>\n",
       "      <th>na_sales</th>\n",
       "      <th>eu_sales</th>\n",
       "      <th>jp_sales</th>\n",
       "      <th>other_sales</th>\n",
       "      <th>critic_score</th>\n",
       "      <th>user_score</th>\n",
       "      <th>rating</th>\n",
       "    </tr>\n",
       "  </thead>\n",
       "  <tbody>\n",
       "    <tr>\n",
       "      <th>183</th>\n",
       "      <td>Madden NFL 2004</td>\n",
       "      <td>PS2</td>\n",
       "      <td>NaN</td>\n",
       "      <td>Sports</td>\n",
       "      <td>4.26</td>\n",
       "      <td>0.26</td>\n",
       "      <td>0.01</td>\n",
       "      <td>0.71</td>\n",
       "      <td>94.0</td>\n",
       "      <td>8.5</td>\n",
       "      <td>E</td>\n",
       "    </tr>\n",
       "    <tr>\n",
       "      <th>377</th>\n",
       "      <td>FIFA Soccer 2004</td>\n",
       "      <td>PS2</td>\n",
       "      <td>NaN</td>\n",
       "      <td>Sports</td>\n",
       "      <td>0.59</td>\n",
       "      <td>2.36</td>\n",
       "      <td>0.04</td>\n",
       "      <td>0.51</td>\n",
       "      <td>84.0</td>\n",
       "      <td>6.4</td>\n",
       "      <td>E</td>\n",
       "    </tr>\n",
       "    <tr>\n",
       "      <th>456</th>\n",
       "      <td>LEGO Batman: The Videogame</td>\n",
       "      <td>Wii</td>\n",
       "      <td>NaN</td>\n",
       "      <td>Action</td>\n",
       "      <td>1.80</td>\n",
       "      <td>0.97</td>\n",
       "      <td>0.00</td>\n",
       "      <td>0.29</td>\n",
       "      <td>74.0</td>\n",
       "      <td>7.9</td>\n",
       "      <td>E10+</td>\n",
       "    </tr>\n",
       "    <tr>\n",
       "      <th>475</th>\n",
       "      <td>wwe Smackdown vs. Raw 2006</td>\n",
       "      <td>PS2</td>\n",
       "      <td>NaN</td>\n",
       "      <td>Fighting</td>\n",
       "      <td>1.57</td>\n",
       "      <td>1.02</td>\n",
       "      <td>0.00</td>\n",
       "      <td>0.41</td>\n",
       "      <td>NaN</td>\n",
       "      <td>NaN</td>\n",
       "      <td>NaN</td>\n",
       "    </tr>\n",
       "    <tr>\n",
       "      <th>609</th>\n",
       "      <td>Space Invaders</td>\n",
       "      <td>2600</td>\n",
       "      <td>NaN</td>\n",
       "      <td>Shooter</td>\n",
       "      <td>2.36</td>\n",
       "      <td>0.14</td>\n",
       "      <td>0.00</td>\n",
       "      <td>0.03</td>\n",
       "      <td>NaN</td>\n",
       "      <td>NaN</td>\n",
       "      <td>NaN</td>\n",
       "    </tr>\n",
       "    <tr>\n",
       "      <th>627</th>\n",
       "      <td>Rock Band</td>\n",
       "      <td>X360</td>\n",
       "      <td>NaN</td>\n",
       "      <td>Misc</td>\n",
       "      <td>1.93</td>\n",
       "      <td>0.33</td>\n",
       "      <td>0.00</td>\n",
       "      <td>0.21</td>\n",
       "      <td>92.0</td>\n",
       "      <td>8.2</td>\n",
       "      <td>T</td>\n",
       "    </tr>\n",
       "    <tr>\n",
       "      <th>657</th>\n",
       "      <td>Frogger's Adventures: Temple of the Frog</td>\n",
       "      <td>GBA</td>\n",
       "      <td>NaN</td>\n",
       "      <td>Adventure</td>\n",
       "      <td>2.15</td>\n",
       "      <td>0.18</td>\n",
       "      <td>0.00</td>\n",
       "      <td>0.07</td>\n",
       "      <td>73.0</td>\n",
       "      <td>NaN</td>\n",
       "      <td>E</td>\n",
       "    </tr>\n",
       "    <tr>\n",
       "      <th>678</th>\n",
       "      <td>LEGO Indiana Jones: The Original Adventures</td>\n",
       "      <td>Wii</td>\n",
       "      <td>NaN</td>\n",
       "      <td>Action</td>\n",
       "      <td>1.51</td>\n",
       "      <td>0.61</td>\n",
       "      <td>0.00</td>\n",
       "      <td>0.21</td>\n",
       "      <td>78.0</td>\n",
       "      <td>6.6</td>\n",
       "      <td>E10+</td>\n",
       "    </tr>\n",
       "    <tr>\n",
       "      <th>719</th>\n",
       "      <td>Call of Duty 3</td>\n",
       "      <td>Wii</td>\n",
       "      <td>NaN</td>\n",
       "      <td>Shooter</td>\n",
       "      <td>1.17</td>\n",
       "      <td>0.84</td>\n",
       "      <td>0.00</td>\n",
       "      <td>0.23</td>\n",
       "      <td>69.0</td>\n",
       "      <td>6.7</td>\n",
       "      <td>T</td>\n",
       "    </tr>\n",
       "    <tr>\n",
       "      <th>805</th>\n",
       "      <td>Rock Band</td>\n",
       "      <td>Wii</td>\n",
       "      <td>NaN</td>\n",
       "      <td>Misc</td>\n",
       "      <td>1.33</td>\n",
       "      <td>0.56</td>\n",
       "      <td>0.00</td>\n",
       "      <td>0.20</td>\n",
       "      <td>80.0</td>\n",
       "      <td>6.3</td>\n",
       "      <td>T</td>\n",
       "    </tr>\n",
       "  </tbody>\n",
       "</table>\n",
       "</div>"
      ],
      "text/plain": [
       "                                            name platform  year_of_release  \\\n",
       "183                              Madden NFL 2004      PS2              NaN   \n",
       "377                             FIFA Soccer 2004      PS2              NaN   \n",
       "456                   LEGO Batman: The Videogame      Wii              NaN   \n",
       "475                   wwe Smackdown vs. Raw 2006      PS2              NaN   \n",
       "609                               Space Invaders     2600              NaN   \n",
       "627                                    Rock Band     X360              NaN   \n",
       "657     Frogger's Adventures: Temple of the Frog      GBA              NaN   \n",
       "678  LEGO Indiana Jones: The Original Adventures      Wii              NaN   \n",
       "719                               Call of Duty 3      Wii              NaN   \n",
       "805                                    Rock Band      Wii              NaN   \n",
       "\n",
       "         genre  na_sales  eu_sales  jp_sales  other_sales  critic_score  \\\n",
       "183     Sports      4.26      0.26      0.01         0.71          94.0   \n",
       "377     Sports      0.59      2.36      0.04         0.51          84.0   \n",
       "456     Action      1.80      0.97      0.00         0.29          74.0   \n",
       "475   Fighting      1.57      1.02      0.00         0.41           NaN   \n",
       "609    Shooter      2.36      0.14      0.00         0.03           NaN   \n",
       "627       Misc      1.93      0.33      0.00         0.21          92.0   \n",
       "657  Adventure      2.15      0.18      0.00         0.07          73.0   \n",
       "678     Action      1.51      0.61      0.00         0.21          78.0   \n",
       "719    Shooter      1.17      0.84      0.00         0.23          69.0   \n",
       "805       Misc      1.33      0.56      0.00         0.20          80.0   \n",
       "\n",
       "     user_score rating  \n",
       "183         8.5      E  \n",
       "377         6.4      E  \n",
       "456         7.9   E10+  \n",
       "475         NaN    NaN  \n",
       "609         NaN    NaN  \n",
       "627         8.2      T  \n",
       "657         NaN      E  \n",
       "678         6.6   E10+  \n",
       "719         6.7      T  \n",
       "805         6.3      T  "
      ]
     },
     "execution_count": 26,
     "metadata": {},
     "output_type": "execute_result"
    }
   ],
   "source": [
    "data[data['year_of_release'].isna()].head(10)"
   ]
  },
  {
   "cell_type": "markdown",
   "id": "27537285",
   "metadata": {},
   "source": [
    "Скорее всего, пропуски в данном столбце относятся к старым играм. По некоторым играм дату релиза можно определить из названия или просто найти эту информацию в Интернете.   \n",
    "Оставим пока эти пропуски, так как, вероятнее всего, эти игры не потребуются нам для анализа."
   ]
  },
  {
   "cell_type": "markdown",
   "id": "25938722",
   "metadata": {},
   "source": [
    "Пропуски в столбцах `critic_score`,\t`user_score`, вероятнее всего, вызваны тем, что по этим играм нет соответствующих данных. Оставим пропуски, так как оценки достаточно индивидуальный и субъективный параметр, и вместо них не стоит ставить какие-либо общие значения."
   ]
  },
  {
   "cell_type": "markdown",
   "id": "43454dc7",
   "metadata": {},
   "source": [
    "Пропуски в столбце `rating`, скорее всего, означают, что ESRB не выставляла оценку игре. Заполним пропуски текстовым значением 'unknown'."
   ]
  },
  {
   "cell_type": "code",
   "execution_count": 27,
   "id": "23b2dc3b",
   "metadata": {},
   "outputs": [],
   "source": [
    "data['rating'] = data['rating'].fillna('unknown')"
   ]
  },
  {
   "cell_type": "markdown",
   "id": "d2b14a6d",
   "metadata": {},
   "source": [
    "Посчитаем суммарные продажи во всех регионах и запишем в отдельный столбец `total_sales`."
   ]
  },
  {
   "cell_type": "code",
   "execution_count": 28,
   "id": "e2215895",
   "metadata": {},
   "outputs": [],
   "source": [
    "data['total_sales'] = data[['na_sales', 'eu_sales', 'jp_sales', 'other_sales']].sum(axis=1)"
   ]
  },
  {
   "cell_type": "markdown",
   "id": "dda6540e",
   "metadata": {},
   "source": [
    "Мы исключили из датасета две безымянные игры, изменили типы данных и заполнили пропуски в некоторых столбцах. Теперь можно переходить к исследованию. "
   ]
  },
  {
   "cell_type": "code",
   "execution_count": 29,
   "id": "3d1f8437",
   "metadata": {},
   "outputs": [
    {
     "name": "stdout",
     "output_type": "stream",
     "text": [
      "<class 'pandas.core.frame.DataFrame'>\n",
      "Int64Index: 16713 entries, 0 to 16714\n",
      "Data columns (total 12 columns):\n",
      " #   Column           Non-Null Count  Dtype  \n",
      "---  ------           --------------  -----  \n",
      " 0   name             16713 non-null  object \n",
      " 1   platform         16713 non-null  object \n",
      " 2   year_of_release  16444 non-null  float64\n",
      " 3   genre            16713 non-null  object \n",
      " 4   na_sales         16713 non-null  float64\n",
      " 5   eu_sales         16713 non-null  float64\n",
      " 6   jp_sales         16713 non-null  float64\n",
      " 7   other_sales      16713 non-null  float64\n",
      " 8   critic_score     8137 non-null   float64\n",
      " 9   user_score       7590 non-null   float64\n",
      " 10  rating           16713 non-null  object \n",
      " 11  total_sales      16713 non-null  float64\n",
      "dtypes: float64(8), object(4)\n",
      "memory usage: 1.7+ MB\n"
     ]
    }
   ],
   "source": [
    "data.info()"
   ]
  },
  {
   "cell_type": "markdown",
   "id": "156b75ce",
   "metadata": {},
   "source": [
    "## 3. Исследовательский анализ данных"
   ]
  },
  {
   "cell_type": "markdown",
   "id": "4b0cb80b",
   "metadata": {},
   "source": [
    "На этом этапе мы ответим на следующие вопросы:\n",
    "1) Сколько игр выпускалось в разные годы? За какие годы нам нужны данные, чтобы сделать прогноз на 2017 год?      \n",
    "2) Как менялись продажи по платформам? За какой характерный срок появляются новые и исчезают старые платформы?   \n",
    "3) Какие платформы лидируют по продажам, растут или падают? Выберем несколько потенциально прибыльных платформ   \n",
    "4) Построим график «ящик с усами» по глобальным продажам игр в разбивке по платформам    \n",
    "5) Как влияют на продажи внутри одной популярной платформы отзывы пользователей и критиков?   \n",
    "6) Что можно сказать о самых прибыльных жанрах? Выделяются ли жанры с высокими и низкими продажами?   "
   ]
  },
  {
   "cell_type": "markdown",
   "id": "1792ff60",
   "metadata": {},
   "source": [
    "### 3.1. Сколько игр выпускалось в разные годы? За какие годы нам нужны данные, чтобы сделать прогноз на 2017 год?"
   ]
  },
  {
   "cell_type": "code",
   "execution_count": 30,
   "id": "d0fed67e",
   "metadata": {},
   "outputs": [],
   "source": [
    "import matplotlib.pyplot as plt"
   ]
  },
  {
   "cell_type": "markdown",
   "id": "c4828fd6",
   "metadata": {},
   "source": [
    "Построим гистограмму по годам релиза."
   ]
  },
  {
   "cell_type": "code",
   "execution_count": 31,
   "id": "94aca060",
   "metadata": {},
   "outputs": [
    {
     "data": {
      "image/png": "[encoded data removed]",
      "text/plain": [
       "<Figure size 640x480 with 1 Axes>"
      ]
     },
     "metadata": {},
     "output_type": "display_data"
    }
   ],
   "source": [
    "plt.hist(data['year_of_release'], bins=len(data['year_of_release'].unique()));\n",
    "plt.title('Количество выпускаемых игр каждый год')\n",
    "plt.show()"
   ]
  },
  {
   "cell_type": "markdown",
   "id": "04ea4c0e",
   "metadata": {},
   "source": [
    "С начала 2000-х годов до 2009 года наблюдается стремительный рост количества выпускаемых игр. В 2008 и 2009 годах выпустили примерно по 1400 игр. Однако уже в 2012 году количество выпускаемых игр в год стало около 600.   "
   ]
  },
  {
   "cell_type": "markdown",
   "id": "b3d4248d",
   "metadata": {},
   "source": [
    "В целях дальнейшего анализа сохраним отдельный датасет **с данными с 2012 года**, которые не включают данные по старым играм, а также бум выпуска видеоигр в конце 2000-х годов."
   ]
  },
  {
   "cell_type": "code",
   "execution_count": 32,
   "id": "c12d1da9",
   "metadata": {},
   "outputs": [],
   "source": [
    "data2 = data.query('year_of_release > 2011')"
   ]
  },
  {
   "cell_type": "markdown",
   "id": "405831ba",
   "metadata": {},
   "source": [
    "### 3.2. Как менялись продажи по платформам? За какой характерный срок появляются новые и исчезают старые платформы?   "
   ]
  },
  {
   "cell_type": "markdown",
   "id": "15dbe8a6",
   "metadata": {},
   "source": [
    "Посмотрим, как менялись продажи по платформам. Для этого сделаем следующее:\n",
    "1) Выберем платформы с наибольшими суммарными продажами;   \n",
    "2) Построим сводную таблицу по выбранным платформам с общей суммой продаж по каждому году;   \n",
    "3) Визуализируем результаты и сделаем вывод."
   ]
  },
  {
   "cell_type": "code",
   "execution_count": 33,
   "id": "3b7d4e6d",
   "metadata": {},
   "outputs": [
    {
     "name": "stdout",
     "output_type": "stream",
     "text": [
      "<class 'pandas.core.frame.DataFrame'>\n",
      "Int64Index: 16713 entries, 0 to 16714\n",
      "Data columns (total 12 columns):\n",
      " #   Column           Non-Null Count  Dtype  \n",
      "---  ------           --------------  -----  \n",
      " 0   name             16713 non-null  object \n",
      " 1   platform         16713 non-null  object \n",
      " 2   year_of_release  16444 non-null  float64\n",
      " 3   genre            16713 non-null  object \n",
      " 4   na_sales         16713 non-null  float64\n",
      " 5   eu_sales         16713 non-null  float64\n",
      " 6   jp_sales         16713 non-null  float64\n",
      " 7   other_sales      16713 non-null  float64\n",
      " 8   critic_score     8137 non-null   float64\n",
      " 9   user_score       7590 non-null   float64\n",
      " 10  rating           16713 non-null  object \n",
      " 11  total_sales      16713 non-null  float64\n",
      "dtypes: float64(8), object(4)\n",
      "memory usage: 1.7+ MB\n"
     ]
    }
   ],
   "source": [
    "data.info()"
   ]
  },
  {
   "cell_type": "code",
   "execution_count": 34,
   "id": "d4b64104",
   "metadata": {},
   "outputs": [
    {
     "data": {
      "text/html": [
       "<div>\n",
       "<style scoped>\n",
       "    .dataframe tbody tr th:only-of-type {\n",
       "        vertical-align: middle;\n",
       "    }\n",
       "\n",
       "    .dataframe tbody tr th {\n",
       "        vertical-align: top;\n",
       "    }\n",
       "\n",
       "    .dataframe thead th {\n",
       "        text-align: right;\n",
       "    }\n",
       "</style>\n",
       "<table border=\"1\" class=\"dataframe\">\n",
       "  <thead>\n",
       "    <tr style=\"text-align: right;\">\n",
       "      <th></th>\n",
       "      <th>platform</th>\n",
       "      <th>total_sales</th>\n",
       "    </tr>\n",
       "  </thead>\n",
       "  <tbody>\n",
       "    <tr>\n",
       "      <th>0</th>\n",
       "      <td>PS2</td>\n",
       "      <td>1255.77</td>\n",
       "    </tr>\n",
       "    <tr>\n",
       "      <th>1</th>\n",
       "      <td>X360</td>\n",
       "      <td>971.42</td>\n",
       "    </tr>\n",
       "    <tr>\n",
       "      <th>2</th>\n",
       "      <td>PS3</td>\n",
       "      <td>939.65</td>\n",
       "    </tr>\n",
       "    <tr>\n",
       "      <th>3</th>\n",
       "      <td>Wii</td>\n",
       "      <td>907.51</td>\n",
       "    </tr>\n",
       "    <tr>\n",
       "      <th>4</th>\n",
       "      <td>DS</td>\n",
       "      <td>806.12</td>\n",
       "    </tr>\n",
       "    <tr>\n",
       "      <th>5</th>\n",
       "      <td>PS</td>\n",
       "      <td>730.86</td>\n",
       "    </tr>\n",
       "    <tr>\n",
       "      <th>6</th>\n",
       "      <td>GBA</td>\n",
       "      <td>317.85</td>\n",
       "    </tr>\n",
       "    <tr>\n",
       "      <th>7</th>\n",
       "      <td>PS4</td>\n",
       "      <td>314.14</td>\n",
       "    </tr>\n",
       "    <tr>\n",
       "      <th>8</th>\n",
       "      <td>PSP</td>\n",
       "      <td>294.05</td>\n",
       "    </tr>\n",
       "    <tr>\n",
       "      <th>9</th>\n",
       "      <td>PC</td>\n",
       "      <td>259.52</td>\n",
       "    </tr>\n",
       "    <tr>\n",
       "      <th>10</th>\n",
       "      <td>3DS</td>\n",
       "      <td>259.00</td>\n",
       "    </tr>\n",
       "    <tr>\n",
       "      <th>11</th>\n",
       "      <td>XB</td>\n",
       "      <td>257.74</td>\n",
       "    </tr>\n",
       "    <tr>\n",
       "      <th>12</th>\n",
       "      <td>GB</td>\n",
       "      <td>255.46</td>\n",
       "    </tr>\n",
       "    <tr>\n",
       "      <th>13</th>\n",
       "      <td>NES</td>\n",
       "      <td>251.05</td>\n",
       "    </tr>\n",
       "    <tr>\n",
       "      <th>14</th>\n",
       "      <td>N64</td>\n",
       "      <td>218.68</td>\n",
       "    </tr>\n",
       "    <tr>\n",
       "      <th>15</th>\n",
       "      <td>SNES</td>\n",
       "      <td>200.04</td>\n",
       "    </tr>\n",
       "    <tr>\n",
       "      <th>16</th>\n",
       "      <td>GC</td>\n",
       "      <td>198.93</td>\n",
       "    </tr>\n",
       "    <tr>\n",
       "      <th>17</th>\n",
       "      <td>XOne</td>\n",
       "      <td>159.32</td>\n",
       "    </tr>\n",
       "    <tr>\n",
       "      <th>18</th>\n",
       "      <td>2600</td>\n",
       "      <td>96.98</td>\n",
       "    </tr>\n",
       "    <tr>\n",
       "      <th>19</th>\n",
       "      <td>WiiU</td>\n",
       "      <td>82.19</td>\n",
       "    </tr>\n",
       "    <tr>\n",
       "      <th>20</th>\n",
       "      <td>PSV</td>\n",
       "      <td>54.07</td>\n",
       "    </tr>\n",
       "    <tr>\n",
       "      <th>21</th>\n",
       "      <td>SAT</td>\n",
       "      <td>33.59</td>\n",
       "    </tr>\n",
       "    <tr>\n",
       "      <th>22</th>\n",
       "      <td>GEN</td>\n",
       "      <td>28.35</td>\n",
       "    </tr>\n",
       "    <tr>\n",
       "      <th>23</th>\n",
       "      <td>DC</td>\n",
       "      <td>15.95</td>\n",
       "    </tr>\n",
       "    <tr>\n",
       "      <th>24</th>\n",
       "      <td>SCD</td>\n",
       "      <td>1.86</td>\n",
       "    </tr>\n",
       "    <tr>\n",
       "      <th>25</th>\n",
       "      <td>NG</td>\n",
       "      <td>1.44</td>\n",
       "    </tr>\n",
       "    <tr>\n",
       "      <th>26</th>\n",
       "      <td>WS</td>\n",
       "      <td>1.42</td>\n",
       "    </tr>\n",
       "    <tr>\n",
       "      <th>27</th>\n",
       "      <td>TG16</td>\n",
       "      <td>0.16</td>\n",
       "    </tr>\n",
       "    <tr>\n",
       "      <th>28</th>\n",
       "      <td>3DO</td>\n",
       "      <td>0.10</td>\n",
       "    </tr>\n",
       "    <tr>\n",
       "      <th>29</th>\n",
       "      <td>GG</td>\n",
       "      <td>0.04</td>\n",
       "    </tr>\n",
       "    <tr>\n",
       "      <th>30</th>\n",
       "      <td>PCFX</td>\n",
       "      <td>0.03</td>\n",
       "    </tr>\n",
       "  </tbody>\n",
       "</table>\n",
       "</div>"
      ],
      "text/plain": [
       "   platform  total_sales\n",
       "0       PS2      1255.77\n",
       "1      X360       971.42\n",
       "2       PS3       939.65\n",
       "3       Wii       907.51\n",
       "4        DS       806.12\n",
       "5        PS       730.86\n",
       "6       GBA       317.85\n",
       "7       PS4       314.14\n",
       "8       PSP       294.05\n",
       "9        PC       259.52\n",
       "10      3DS       259.00\n",
       "11       XB       257.74\n",
       "12       GB       255.46\n",
       "13      NES       251.05\n",
       "14      N64       218.68\n",
       "15     SNES       200.04\n",
       "16       GC       198.93\n",
       "17     XOne       159.32\n",
       "18     2600        96.98\n",
       "19     WiiU        82.19\n",
       "20      PSV        54.07\n",
       "21      SAT        33.59\n",
       "22      GEN        28.35\n",
       "23       DC        15.95\n",
       "24      SCD         1.86\n",
       "25       NG         1.44\n",
       "26       WS         1.42\n",
       "27     TG16         0.16\n",
       "28      3DO         0.10\n",
       "29       GG         0.04\n",
       "30     PCFX         0.03"
      ]
     },
     "execution_count": 34,
     "metadata": {},
     "output_type": "execute_result"
    }
   ],
   "source": [
    "data_platform_total_sales = data.groupby('platform')['total_sales'].sum().sort_values(ascending=False).reset_index()\n",
    "data_platform_total_sales"
   ]
  },
  {
   "cell_type": "markdown",
   "id": "56306d73",
   "metadata": {},
   "source": [
    "Первые 6 платформ существенно выше других по суммарным продажам. Возьмём их для анализа."
   ]
  },
  {
   "cell_type": "code",
   "execution_count": 35,
   "id": "50019483",
   "metadata": {},
   "outputs": [],
   "source": [
    "platform_names = data_platform_total_sales.loc[0:5, 'platform'].tolist()"
   ]
  },
  {
   "cell_type": "code",
   "execution_count": 36,
   "id": "c52eed24",
   "metadata": {
    "scrolled": true
   },
   "outputs": [],
   "source": [
    "top_plaforms_sales_grouped = data.query('platform in @platform_names').pivot_table(\\\n",
    "                                        index='year_of_release', columns='platform', \\\n",
    "                                        values='total_sales', aggfunc='sum')\\\n",
    "                                        .reset_index()\n"
   ]
  },
  {
   "cell_type": "code",
   "execution_count": 37,
   "id": "bd42176c",
   "metadata": {},
   "outputs": [
    {
     "data": {
      "text/html": [
       "<div>\n",
       "<style scoped>\n",
       "    .dataframe tbody tr th:only-of-type {\n",
       "        vertical-align: middle;\n",
       "    }\n",
       "\n",
       "    .dataframe tbody tr th {\n",
       "        vertical-align: top;\n",
       "    }\n",
       "\n",
       "    .dataframe thead th {\n",
       "        text-align: right;\n",
       "    }\n",
       "</style>\n",
       "<table border=\"1\" class=\"dataframe\">\n",
       "  <thead>\n",
       "    <tr style=\"text-align: right;\">\n",
       "      <th>platform</th>\n",
       "      <th>year_of_release</th>\n",
       "      <th>DS</th>\n",
       "      <th>PS</th>\n",
       "      <th>PS2</th>\n",
       "      <th>PS3</th>\n",
       "      <th>Wii</th>\n",
       "      <th>X360</th>\n",
       "    </tr>\n",
       "  </thead>\n",
       "  <tbody>\n",
       "    <tr>\n",
       "      <th>0</th>\n",
       "      <td>1985.0</td>\n",
       "      <td>0.02</td>\n",
       "      <td>NaN</td>\n",
       "      <td>NaN</td>\n",
       "      <td>NaN</td>\n",
       "      <td>NaN</td>\n",
       "      <td>NaN</td>\n",
       "    </tr>\n",
       "    <tr>\n",
       "      <th>1</th>\n",
       "      <td>1994.0</td>\n",
       "      <td>NaN</td>\n",
       "      <td>6.03</td>\n",
       "      <td>NaN</td>\n",
       "      <td>NaN</td>\n",
       "      <td>NaN</td>\n",
       "      <td>NaN</td>\n",
       "    </tr>\n",
       "    <tr>\n",
       "      <th>2</th>\n",
       "      <td>1995.0</td>\n",
       "      <td>NaN</td>\n",
       "      <td>35.96</td>\n",
       "      <td>NaN</td>\n",
       "      <td>NaN</td>\n",
       "      <td>NaN</td>\n",
       "      <td>NaN</td>\n",
       "    </tr>\n",
       "    <tr>\n",
       "      <th>3</th>\n",
       "      <td>1996.0</td>\n",
       "      <td>NaN</td>\n",
       "      <td>94.70</td>\n",
       "      <td>NaN</td>\n",
       "      <td>NaN</td>\n",
       "      <td>NaN</td>\n",
       "      <td>NaN</td>\n",
       "    </tr>\n",
       "    <tr>\n",
       "      <th>4</th>\n",
       "      <td>1997.0</td>\n",
       "      <td>NaN</td>\n",
       "      <td>136.17</td>\n",
       "      <td>NaN</td>\n",
       "      <td>NaN</td>\n",
       "      <td>NaN</td>\n",
       "      <td>NaN</td>\n",
       "    </tr>\n",
       "    <tr>\n",
       "      <th>5</th>\n",
       "      <td>1998.0</td>\n",
       "      <td>NaN</td>\n",
       "      <td>169.49</td>\n",
       "      <td>NaN</td>\n",
       "      <td>NaN</td>\n",
       "      <td>NaN</td>\n",
       "      <td>NaN</td>\n",
       "    </tr>\n",
       "    <tr>\n",
       "      <th>6</th>\n",
       "      <td>1999.0</td>\n",
       "      <td>NaN</td>\n",
       "      <td>144.53</td>\n",
       "      <td>NaN</td>\n",
       "      <td>NaN</td>\n",
       "      <td>NaN</td>\n",
       "      <td>NaN</td>\n",
       "    </tr>\n",
       "    <tr>\n",
       "      <th>7</th>\n",
       "      <td>2000.0</td>\n",
       "      <td>NaN</td>\n",
       "      <td>96.37</td>\n",
       "      <td>39.17</td>\n",
       "      <td>NaN</td>\n",
       "      <td>NaN</td>\n",
       "      <td>NaN</td>\n",
       "    </tr>\n",
       "    <tr>\n",
       "      <th>8</th>\n",
       "      <td>2001.0</td>\n",
       "      <td>NaN</td>\n",
       "      <td>35.59</td>\n",
       "      <td>166.43</td>\n",
       "      <td>NaN</td>\n",
       "      <td>NaN</td>\n",
       "      <td>NaN</td>\n",
       "    </tr>\n",
       "    <tr>\n",
       "      <th>9</th>\n",
       "      <td>2002.0</td>\n",
       "      <td>NaN</td>\n",
       "      <td>6.67</td>\n",
       "      <td>205.38</td>\n",
       "      <td>NaN</td>\n",
       "      <td>NaN</td>\n",
       "      <td>NaN</td>\n",
       "    </tr>\n",
       "    <tr>\n",
       "      <th>10</th>\n",
       "      <td>2003.0</td>\n",
       "      <td>NaN</td>\n",
       "      <td>2.07</td>\n",
       "      <td>184.31</td>\n",
       "      <td>NaN</td>\n",
       "      <td>NaN</td>\n",
       "      <td>NaN</td>\n",
       "    </tr>\n",
       "    <tr>\n",
       "      <th>11</th>\n",
       "      <td>2004.0</td>\n",
       "      <td>17.27</td>\n",
       "      <td>NaN</td>\n",
       "      <td>211.81</td>\n",
       "      <td>NaN</td>\n",
       "      <td>NaN</td>\n",
       "      <td>NaN</td>\n",
       "    </tr>\n",
       "    <tr>\n",
       "      <th>12</th>\n",
       "      <td>2005.0</td>\n",
       "      <td>130.14</td>\n",
       "      <td>NaN</td>\n",
       "      <td>160.66</td>\n",
       "      <td>NaN</td>\n",
       "      <td>NaN</td>\n",
       "      <td>8.25</td>\n",
       "    </tr>\n",
       "    <tr>\n",
       "      <th>13</th>\n",
       "      <td>2006.0</td>\n",
       "      <td>119.81</td>\n",
       "      <td>NaN</td>\n",
       "      <td>103.42</td>\n",
       "      <td>20.96</td>\n",
       "      <td>137.15</td>\n",
       "      <td>51.62</td>\n",
       "    </tr>\n",
       "    <tr>\n",
       "      <th>14</th>\n",
       "      <td>2007.0</td>\n",
       "      <td>146.94</td>\n",
       "      <td>NaN</td>\n",
       "      <td>75.99</td>\n",
       "      <td>73.19</td>\n",
       "      <td>152.77</td>\n",
       "      <td>95.41</td>\n",
       "    </tr>\n",
       "    <tr>\n",
       "      <th>15</th>\n",
       "      <td>2008.0</td>\n",
       "      <td>145.31</td>\n",
       "      <td>NaN</td>\n",
       "      <td>53.90</td>\n",
       "      <td>118.52</td>\n",
       "      <td>171.32</td>\n",
       "      <td>135.26</td>\n",
       "    </tr>\n",
       "    <tr>\n",
       "      <th>16</th>\n",
       "      <td>2009.0</td>\n",
       "      <td>119.54</td>\n",
       "      <td>NaN</td>\n",
       "      <td>26.40</td>\n",
       "      <td>130.93</td>\n",
       "      <td>206.97</td>\n",
       "      <td>120.29</td>\n",
       "    </tr>\n",
       "    <tr>\n",
       "      <th>17</th>\n",
       "      <td>2010.0</td>\n",
       "      <td>85.02</td>\n",
       "      <td>NaN</td>\n",
       "      <td>5.64</td>\n",
       "      <td>142.17</td>\n",
       "      <td>127.95</td>\n",
       "      <td>170.03</td>\n",
       "    </tr>\n",
       "    <tr>\n",
       "      <th>18</th>\n",
       "      <td>2011.0</td>\n",
       "      <td>26.18</td>\n",
       "      <td>NaN</td>\n",
       "      <td>0.45</td>\n",
       "      <td>156.78</td>\n",
       "      <td>59.65</td>\n",
       "      <td>143.84</td>\n",
       "    </tr>\n",
       "    <tr>\n",
       "      <th>19</th>\n",
       "      <td>2012.0</td>\n",
       "      <td>11.01</td>\n",
       "      <td>NaN</td>\n",
       "      <td>NaN</td>\n",
       "      <td>107.36</td>\n",
       "      <td>21.71</td>\n",
       "      <td>99.74</td>\n",
       "    </tr>\n",
       "    <tr>\n",
       "      <th>20</th>\n",
       "      <td>2013.0</td>\n",
       "      <td>1.54</td>\n",
       "      <td>NaN</td>\n",
       "      <td>NaN</td>\n",
       "      <td>113.25</td>\n",
       "      <td>8.59</td>\n",
       "      <td>88.58</td>\n",
       "    </tr>\n",
       "    <tr>\n",
       "      <th>21</th>\n",
       "      <td>2014.0</td>\n",
       "      <td>NaN</td>\n",
       "      <td>NaN</td>\n",
       "      <td>NaN</td>\n",
       "      <td>47.76</td>\n",
       "      <td>3.75</td>\n",
       "      <td>34.74</td>\n",
       "    </tr>\n",
       "    <tr>\n",
       "      <th>22</th>\n",
       "      <td>2015.0</td>\n",
       "      <td>NaN</td>\n",
       "      <td>NaN</td>\n",
       "      <td>NaN</td>\n",
       "      <td>16.82</td>\n",
       "      <td>1.14</td>\n",
       "      <td>11.96</td>\n",
       "    </tr>\n",
       "    <tr>\n",
       "      <th>23</th>\n",
       "      <td>2016.0</td>\n",
       "      <td>NaN</td>\n",
       "      <td>NaN</td>\n",
       "      <td>NaN</td>\n",
       "      <td>3.60</td>\n",
       "      <td>0.18</td>\n",
       "      <td>1.52</td>\n",
       "    </tr>\n",
       "  </tbody>\n",
       "</table>\n",
       "</div>"
      ],
      "text/plain": [
       "platform  year_of_release      DS      PS     PS2     PS3     Wii    X360\n",
       "0                  1985.0    0.02     NaN     NaN     NaN     NaN     NaN\n",
       "1                  1994.0     NaN    6.03     NaN     NaN     NaN     NaN\n",
       "2                  1995.0     NaN   35.96     NaN     NaN     NaN     NaN\n",
       "3                  1996.0     NaN   94.70     NaN     NaN     NaN     NaN\n",
       "4                  1997.0     NaN  136.17     NaN     NaN     NaN     NaN\n",
       "5                  1998.0     NaN  169.49     NaN     NaN     NaN     NaN\n",
       "6                  1999.0     NaN  144.53     NaN     NaN     NaN     NaN\n",
       "7                  2000.0     NaN   96.37   39.17     NaN     NaN     NaN\n",
       "8                  2001.0     NaN   35.59  166.43     NaN     NaN     NaN\n",
       "9                  2002.0     NaN    6.67  205.38     NaN     NaN     NaN\n",
       "10                 2003.0     NaN    2.07  184.31     NaN     NaN     NaN\n",
       "11                 2004.0   17.27     NaN  211.81     NaN     NaN     NaN\n",
       "12                 2005.0  130.14     NaN  160.66     NaN     NaN    8.25\n",
       "13                 2006.0  119.81     NaN  103.42   20.96  137.15   51.62\n",
       "14                 2007.0  146.94     NaN   75.99   73.19  152.77   95.41\n",
       "15                 2008.0  145.31     NaN   53.90  118.52  171.32  135.26\n",
       "16                 2009.0  119.54     NaN   26.40  130.93  206.97  120.29\n",
       "17                 2010.0   85.02     NaN    5.64  142.17  127.95  170.03\n",
       "18                 2011.0   26.18     NaN    0.45  156.78   59.65  143.84\n",
       "19                 2012.0   11.01     NaN     NaN  107.36   21.71   99.74\n",
       "20                 2013.0    1.54     NaN     NaN  113.25    8.59   88.58\n",
       "21                 2014.0     NaN     NaN     NaN   47.76    3.75   34.74\n",
       "22                 2015.0     NaN     NaN     NaN   16.82    1.14   11.96\n",
       "23                 2016.0     NaN     NaN     NaN    3.60    0.18    1.52"
      ]
     },
     "execution_count": 37,
     "metadata": {},
     "output_type": "execute_result"
    }
   ],
   "source": [
    "top_plaforms_sales_grouped"
   ]
  },
  {
   "cell_type": "code",
   "execution_count": 38,
   "id": "e3ae5ac1",
   "metadata": {},
   "outputs": [
    {
     "data": {
      "image/png": "[encoded data removed]",
      "text/plain": [
       "<Figure size 640x480 with 1 Axes>"
      ]
     },
     "metadata": {},
     "output_type": "display_data"
    }
   ],
   "source": [
    "for plot in platform_names :\n",
    "    plt.plot(top_plaforms_sales_grouped['year_of_release'], top_plaforms_sales_grouped[plot], 'o-', label=str(plot))\n",
    "\n",
    "plt.xlabel('Year') \n",
    "plt.ylabel('total_sales')\n",
    "plt.legend()\n",
    "plt.yticks(range(0, 230, 20))\n",
    "plt.grid()\n",
    "plt.show()"
   ]
  },
  {
   "cell_type": "markdown",
   "id": "baccf9c0",
   "metadata": {},
   "source": [
    "На этом графике отчетливо видно, на какие годы приходятся пик и падение продаж для каждой из выбранных платформ:\n",
    "- PS - рост в течение 4 лет, уход с рынка в течение 5 лет;\n",
    "- PS2 - рост в течение 4 лет, уход с рынка в течение 6 лет;\n",
    "- Wii - рост в течение 3 лет, уход с рынка в течение 4 лет;\n",
    "- X360 - рост в течение 5 лет, уход с рынка в течение 5 лет;\n",
    "- PS3 - рост в течение 5 лет, уход с рынка в течение 5 лет;\n",
    "- DS - рост в течение 3 лет, уход с рынка в течение 5 лет."
   ]
  },
  {
   "cell_type": "markdown",
   "id": "55c79219",
   "metadata": {},
   "source": [
    "Таким образом, самые успешные платформы появляются на рынке и **достигают своего пика в течение 3-5 лет**, а следующие **4-6 лет продажи падают до минимальных значений**."
   ]
  },
  {
   "cell_type": "markdown",
   "id": "5c1ad3c7",
   "metadata": {},
   "source": [
    "### 3.3. Какие платформы лидируют по продажам, растут или падают? Выберем несколько потенциально прибыльных платформ"
   ]
  },
  {
   "cell_type": "markdown",
   "id": "54da9e53",
   "metadata": {},
   "source": [
    "Далее мы будем использовать только данные с 2012 года."
   ]
  },
  {
   "cell_type": "markdown",
   "id": "8c0d59e0",
   "metadata": {},
   "source": [
    "1) Составим таблицу с данным по общим продажам по каждой платформе;   \n",
    "2) Составим таблицу с данными по общим продажам на платформах в каждом году;   \n",
    "3) Визуализируем данные, чтобы определить, какие платформы показывают положительную динамику к концу периода."
   ]
  },
  {
   "cell_type": "code",
   "execution_count": 39,
   "id": "fb57a425",
   "metadata": {},
   "outputs": [
    {
     "data": {
      "text/html": [
       "<div>\n",
       "<style scoped>\n",
       "    .dataframe tbody tr th:only-of-type {\n",
       "        vertical-align: middle;\n",
       "    }\n",
       "\n",
       "    .dataframe tbody tr th {\n",
       "        vertical-align: top;\n",
       "    }\n",
       "\n",
       "    .dataframe thead th {\n",
       "        text-align: right;\n",
       "    }\n",
       "</style>\n",
       "<table border=\"1\" class=\"dataframe\">\n",
       "  <thead>\n",
       "    <tr style=\"text-align: right;\">\n",
       "      <th></th>\n",
       "      <th>platform</th>\n",
       "      <th>total_sales</th>\n",
       "    </tr>\n",
       "  </thead>\n",
       "  <tbody>\n",
       "    <tr>\n",
       "      <th>0</th>\n",
       "      <td>PS4</td>\n",
       "      <td>314.14</td>\n",
       "    </tr>\n",
       "    <tr>\n",
       "      <th>1</th>\n",
       "      <td>PS3</td>\n",
       "      <td>288.79</td>\n",
       "    </tr>\n",
       "    <tr>\n",
       "      <th>2</th>\n",
       "      <td>X360</td>\n",
       "      <td>236.54</td>\n",
       "    </tr>\n",
       "    <tr>\n",
       "      <th>3</th>\n",
       "      <td>3DS</td>\n",
       "      <td>194.61</td>\n",
       "    </tr>\n",
       "    <tr>\n",
       "      <th>4</th>\n",
       "      <td>XOne</td>\n",
       "      <td>159.32</td>\n",
       "    </tr>\n",
       "    <tr>\n",
       "      <th>5</th>\n",
       "      <td>WiiU</td>\n",
       "      <td>82.19</td>\n",
       "    </tr>\n",
       "    <tr>\n",
       "      <th>6</th>\n",
       "      <td>PC</td>\n",
       "      <td>62.65</td>\n",
       "    </tr>\n",
       "    <tr>\n",
       "      <th>7</th>\n",
       "      <td>PSV</td>\n",
       "      <td>49.18</td>\n",
       "    </tr>\n",
       "    <tr>\n",
       "      <th>8</th>\n",
       "      <td>Wii</td>\n",
       "      <td>35.37</td>\n",
       "    </tr>\n",
       "    <tr>\n",
       "      <th>9</th>\n",
       "      <td>DS</td>\n",
       "      <td>12.55</td>\n",
       "    </tr>\n",
       "    <tr>\n",
       "      <th>10</th>\n",
       "      <td>PSP</td>\n",
       "      <td>11.19</td>\n",
       "    </tr>\n",
       "  </tbody>\n",
       "</table>\n",
       "</div>"
      ],
      "text/plain": [
       "   platform  total_sales\n",
       "0       PS4       314.14\n",
       "1       PS3       288.79\n",
       "2      X360       236.54\n",
       "3       3DS       194.61\n",
       "4      XOne       159.32\n",
       "5      WiiU        82.19\n",
       "6        PC        62.65\n",
       "7       PSV        49.18\n",
       "8       Wii        35.37\n",
       "9        DS        12.55\n",
       "10      PSP        11.19"
      ]
     },
     "execution_count": 39,
     "metadata": {},
     "output_type": "execute_result"
    }
   ],
   "source": [
    "data2_platform_total_sales = data2.groupby('platform')['total_sales'].sum().sort_values(ascending=False).reset_index()\n",
    "data2_platform_total_sales"
   ]
  },
  {
   "cell_type": "code",
   "execution_count": 40,
   "id": "c2aef7f3",
   "metadata": {},
   "outputs": [
    {
     "data": {
      "text/html": [
       "<div>\n",
       "<style scoped>\n",
       "    .dataframe tbody tr th:only-of-type {\n",
       "        vertical-align: middle;\n",
       "    }\n",
       "\n",
       "    .dataframe tbody tr th {\n",
       "        vertical-align: top;\n",
       "    }\n",
       "\n",
       "    .dataframe thead th {\n",
       "        text-align: right;\n",
       "    }\n",
       "</style>\n",
       "<table border=\"1\" class=\"dataframe\">\n",
       "  <thead>\n",
       "    <tr style=\"text-align: right;\">\n",
       "      <th>platform</th>\n",
       "      <th>year_of_release</th>\n",
       "      <th>3DS</th>\n",
       "      <th>DS</th>\n",
       "      <th>PC</th>\n",
       "      <th>PS3</th>\n",
       "      <th>PS4</th>\n",
       "      <th>PSP</th>\n",
       "      <th>PSV</th>\n",
       "      <th>Wii</th>\n",
       "      <th>WiiU</th>\n",
       "      <th>X360</th>\n",
       "      <th>XOne</th>\n",
       "    </tr>\n",
       "  </thead>\n",
       "  <tbody>\n",
       "    <tr>\n",
       "      <th>0</th>\n",
       "      <td>2012.0</td>\n",
       "      <td>51.36</td>\n",
       "      <td>11.01</td>\n",
       "      <td>23.22</td>\n",
       "      <td>107.36</td>\n",
       "      <td>NaN</td>\n",
       "      <td>7.69</td>\n",
       "      <td>16.19</td>\n",
       "      <td>21.71</td>\n",
       "      <td>17.56</td>\n",
       "      <td>99.74</td>\n",
       "      <td>NaN</td>\n",
       "    </tr>\n",
       "    <tr>\n",
       "      <th>1</th>\n",
       "      <td>2013.0</td>\n",
       "      <td>56.57</td>\n",
       "      <td>1.54</td>\n",
       "      <td>12.38</td>\n",
       "      <td>113.25</td>\n",
       "      <td>25.99</td>\n",
       "      <td>3.14</td>\n",
       "      <td>10.59</td>\n",
       "      <td>8.59</td>\n",
       "      <td>21.65</td>\n",
       "      <td>88.58</td>\n",
       "      <td>18.96</td>\n",
       "    </tr>\n",
       "    <tr>\n",
       "      <th>2</th>\n",
       "      <td>2014.0</td>\n",
       "      <td>43.76</td>\n",
       "      <td>NaN</td>\n",
       "      <td>13.28</td>\n",
       "      <td>47.76</td>\n",
       "      <td>100.00</td>\n",
       "      <td>0.24</td>\n",
       "      <td>11.90</td>\n",
       "      <td>3.75</td>\n",
       "      <td>22.03</td>\n",
       "      <td>34.74</td>\n",
       "      <td>54.07</td>\n",
       "    </tr>\n",
       "    <tr>\n",
       "      <th>3</th>\n",
       "      <td>2015.0</td>\n",
       "      <td>27.78</td>\n",
       "      <td>NaN</td>\n",
       "      <td>8.52</td>\n",
       "      <td>16.82</td>\n",
       "      <td>118.90</td>\n",
       "      <td>0.12</td>\n",
       "      <td>6.25</td>\n",
       "      <td>1.14</td>\n",
       "      <td>16.35</td>\n",
       "      <td>11.96</td>\n",
       "      <td>60.14</td>\n",
       "    </tr>\n",
       "    <tr>\n",
       "      <th>4</th>\n",
       "      <td>2016.0</td>\n",
       "      <td>15.14</td>\n",
       "      <td>NaN</td>\n",
       "      <td>5.25</td>\n",
       "      <td>3.60</td>\n",
       "      <td>69.25</td>\n",
       "      <td>NaN</td>\n",
       "      <td>4.25</td>\n",
       "      <td>0.18</td>\n",
       "      <td>4.60</td>\n",
       "      <td>1.52</td>\n",
       "      <td>26.15</td>\n",
       "    </tr>\n",
       "  </tbody>\n",
       "</table>\n",
       "</div>"
      ],
      "text/plain": [
       "platform  year_of_release    3DS     DS     PC     PS3     PS4   PSP    PSV  \\\n",
       "0                  2012.0  51.36  11.01  23.22  107.36     NaN  7.69  16.19   \n",
       "1                  2013.0  56.57   1.54  12.38  113.25   25.99  3.14  10.59   \n",
       "2                  2014.0  43.76    NaN  13.28   47.76  100.00  0.24  11.90   \n",
       "3                  2015.0  27.78    NaN   8.52   16.82  118.90  0.12   6.25   \n",
       "4                  2016.0  15.14    NaN   5.25    3.60   69.25   NaN   4.25   \n",
       "\n",
       "platform    Wii   WiiU   X360   XOne  \n",
       "0         21.71  17.56  99.74    NaN  \n",
       "1          8.59  21.65  88.58  18.96  \n",
       "2          3.75  22.03  34.74  54.07  \n",
       "3          1.14  16.35  11.96  60.14  \n",
       "4          0.18   4.60   1.52  26.15  "
      ]
     },
     "execution_count": 40,
     "metadata": {},
     "output_type": "execute_result"
    }
   ],
   "source": [
    "data2_platforms_sales_grouped = data2.pivot_table(index='year_of_release', columns='platform', \\\n",
    "                                        values='total_sales', aggfunc='sum')\\\n",
    "                                        .reset_index()\n",
    "data2_platforms_sales_grouped"
   ]
  },
  {
   "cell_type": "code",
   "execution_count": 41,
   "id": "d2bfe149",
   "metadata": {},
   "outputs": [
    {
     "data": {
      "image/png": "[encoded data removed]",
      "text/plain": [
       "<Figure size 640x480 with 1 Axes>"
      ]
     },
     "metadata": {},
     "output_type": "display_data"
    }
   ],
   "source": [
    "for plot in data2['platform'].unique() :\n",
    "    plt.plot(data2_platforms_sales_grouped['year_of_release'], data2_platforms_sales_grouped[plot], 'o-', label=str(plot))\n",
    "\n",
    "plt.xlabel('Year') \n",
    "plt.ylabel('total_sales')\n",
    "plt.yticks(range(0, 230, 20))\n",
    "plt.xticks(data2_platforms_sales_grouped['year_of_release'].tolist())\n",
    "ax = plt.subplot(111)\n",
    "ax.legend(bbox_to_anchor=(1, 1))\n",
    "plt.grid()\n",
    "plt.show()"
   ]
  },
  {
   "cell_type": "markdown",
   "id": "b3ae5564",
   "metadata": {},
   "source": [
    "В документации к данным было указано, что данные не за весь 2016. Поэтому падение продаж в 2016 году на графике не означает реальное падение продаж игр на платформах. Для выбора потенциально прибыльных платформ нужно обратить внимание на рост продаж до 2015 года.   \n",
    "Таких платформ две - **PS4 и XOne**."
   ]
  },
  {
   "cell_type": "markdown",
   "id": "24e0aa2e",
   "metadata": {},
   "source": [
    "### 3.4. Постройте график «ящик с усами» по глобальным продажам игр в разбивке по платформам."
   ]
  },
  {
   "cell_type": "markdown",
   "id": "0f6a2080",
   "metadata": {},
   "source": [
    "Построим ящик для каждой платформы актуального периода и сравним результаты."
   ]
  },
  {
   "cell_type": "code",
   "execution_count": 42,
   "id": "da26f346",
   "metadata": {},
   "outputs": [],
   "source": [
    "import seaborn as sns"
   ]
  },
  {
   "cell_type": "code",
   "execution_count": 43,
   "id": "0d440ed4",
   "metadata": {
    "scrolled": true
   },
   "outputs": [
    {
     "name": "stdout",
     "output_type": "stream",
     "text": [
      "PS3\n",
      "count    493.000000\n",
      "mean       0.585781\n",
      "std        1.462855\n",
      "min        0.010000\n",
      "25%        0.050000\n",
      "50%        0.200000\n",
      "75%        0.610000\n",
      "max       21.050000\n",
      "Name: total_sales, dtype: float64\n"
     ]
    },
    {
     "name": "stderr",
     "output_type": "stream",
     "text": [
      "/Users/Roman/opt/anaconda3/lib/python3.9/site-packages/seaborn/_decorators.py:36: FutureWarning: Pass the following variable as a keyword arg: x. From version 0.12, the only valid positional argument will be `data`, and passing other arguments without an explicit keyword will result in an error or misinterpretation.\n",
      "  warnings.warn(\n"
     ]
    },
    {
     "data": {
      "image/png": "[encoded data removed]",
      "text/plain": [
       "<Figure size 640x480 with 1 Axes>"
      ]
     },
     "metadata": {},
     "output_type": "display_data"
    },
    {
     "name": "stdout",
     "output_type": "stream",
     "text": [
      "X360\n",
      "count    292.000000\n",
      "mean       0.810068\n",
      "std        1.712069\n",
      "min        0.010000\n",
      "25%        0.100000\n",
      "50%        0.310000\n",
      "75%        0.870000\n",
      "max       16.270000\n",
      "Name: total_sales, dtype: float64\n"
     ]
    },
    {
     "name": "stderr",
     "output_type": "stream",
     "text": [
      "/Users/Roman/opt/anaconda3/lib/python3.9/site-packages/seaborn/_decorators.py:36: FutureWarning: Pass the following variable as a keyword arg: x. From version 0.12, the only valid positional argument will be `data`, and passing other arguments without an explicit keyword will result in an error or misinterpretation.\n",
      "  warnings.warn(\n"
     ]
    },
    {
     "data": {
      "image/png": "[encoded data removed]",
      "text/plain": [
       "<Figure size 640x480 with 1 Axes>"
      ]
     },
     "metadata": {},
     "output_type": "display_data"
    },
    {
     "name": "stdout",
     "output_type": "stream",
     "text": [
      "PS4\n",
      "count    392.000000\n",
      "mean       0.801378\n",
      "std        1.609456\n",
      "min        0.010000\n",
      "25%        0.060000\n",
      "50%        0.200000\n",
      "75%        0.730000\n",
      "max       14.630000\n",
      "Name: total_sales, dtype: float64\n"
     ]
    },
    {
     "name": "stderr",
     "output_type": "stream",
     "text": [
      "/Users/Roman/opt/anaconda3/lib/python3.9/site-packages/seaborn/_decorators.py:36: FutureWarning: Pass the following variable as a keyword arg: x. From version 0.12, the only valid positional argument will be `data`, and passing other arguments without an explicit keyword will result in an error or misinterpretation.\n",
      "  warnings.warn(\n"
     ]
    },
    {
     "data": {
      "image/png": "[encoded data removed]",
      "text/plain": [
       "<Figure size 640x480 with 1 Axes>"
      ]
     },
     "metadata": {},
     "output_type": "display_data"
    },
    {
     "name": "stdout",
     "output_type": "stream",
     "text": [
      "3DS\n",
      "count    396.000000\n",
      "mean       0.491439\n",
      "std        1.387161\n",
      "min        0.010000\n",
      "25%        0.040000\n",
      "50%        0.110000\n",
      "75%        0.312500\n",
      "max       14.600000\n",
      "Name: total_sales, dtype: float64\n"
     ]
    },
    {
     "name": "stderr",
     "output_type": "stream",
     "text": [
      "/Users/Roman/opt/anaconda3/lib/python3.9/site-packages/seaborn/_decorators.py:36: FutureWarning: Pass the following variable as a keyword arg: x. From version 0.12, the only valid positional argument will be `data`, and passing other arguments without an explicit keyword will result in an error or misinterpretation.\n",
      "  warnings.warn(\n"
     ]
    },
    {
     "data": {
      "image/png": "[encoded data removed]",
      "text/plain": [
       "<Figure size 640x480 with 1 Axes>"
      ]
     },
     "metadata": {},
     "output_type": "display_data"
    },
    {
     "name": "stdout",
     "output_type": "stream",
     "text": [
      "DS\n",
      "count    31.000000\n",
      "mean      0.404839\n",
      "std       1.439245\n",
      "min       0.010000\n",
      "25%       0.020000\n",
      "50%       0.050000\n",
      "75%       0.185000\n",
      "max       8.060000\n",
      "Name: total_sales, dtype: float64\n"
     ]
    },
    {
     "name": "stderr",
     "output_type": "stream",
     "text": [
      "/Users/Roman/opt/anaconda3/lib/python3.9/site-packages/seaborn/_decorators.py:36: FutureWarning: Pass the following variable as a keyword arg: x. From version 0.12, the only valid positional argument will be `data`, and passing other arguments without an explicit keyword will result in an error or misinterpretation.\n",
      "  warnings.warn(\n"
     ]
    },
    {
     "data": {
      "image/png": "[encoded data removed]",
      "text/plain": [
       "<Figure size 640x480 with 1 Axes>"
      ]
     },
     "metadata": {},
     "output_type": "display_data"
    },
    {
     "name": "stdout",
     "output_type": "stream",
     "text": [
      "XOne\n",
      "count    247.000000\n",
      "mean       0.645020\n",
      "std        1.036139\n",
      "min        0.010000\n",
      "25%        0.060000\n",
      "50%        0.220000\n",
      "75%        0.685000\n",
      "max        7.390000\n",
      "Name: total_sales, dtype: float64\n"
     ]
    },
    {
     "name": "stderr",
     "output_type": "stream",
     "text": [
      "/Users/Roman/opt/anaconda3/lib/python3.9/site-packages/seaborn/_decorators.py:36: FutureWarning: Pass the following variable as a keyword arg: x. From version 0.12, the only valid positional argument will be `data`, and passing other arguments without an explicit keyword will result in an error or misinterpretation.\n",
      "  warnings.warn(\n"
     ]
    },
    {
     "data": {
      "image/png": "[encoded data removed]",
      "text/plain": [
       "<Figure size 640x480 with 1 Axes>"
      ]
     },
     "metadata": {},
     "output_type": "display_data"
    },
    {
     "name": "stdout",
     "output_type": "stream",
     "text": [
      "WiiU\n",
      "count    147.000000\n",
      "mean       0.559116\n",
      "std        1.058836\n",
      "min        0.010000\n",
      "25%        0.080000\n",
      "50%        0.220000\n",
      "75%        0.525000\n",
      "max        7.090000\n",
      "Name: total_sales, dtype: float64\n"
     ]
    },
    {
     "name": "stderr",
     "output_type": "stream",
     "text": [
      "/Users/Roman/opt/anaconda3/lib/python3.9/site-packages/seaborn/_decorators.py:36: FutureWarning: Pass the following variable as a keyword arg: x. From version 0.12, the only valid positional argument will be `data`, and passing other arguments without an explicit keyword will result in an error or misinterpretation.\n",
      "  warnings.warn(\n"
     ]
    },
    {
     "data": {
      "image/png": "[encoded data removed]",
      "text/plain": [
       "<Figure size 640x480 with 1 Axes>"
      ]
     },
     "metadata": {},
     "output_type": "display_data"
    },
    {
     "name": "stdout",
     "output_type": "stream",
     "text": [
      "Wii\n",
      "count    54.000000\n",
      "mean      0.655000\n",
      "std       1.165447\n",
      "min       0.010000\n",
      "25%       0.062500\n",
      "50%       0.180000\n",
      "75%       0.687500\n",
      "max       6.760000\n",
      "Name: total_sales, dtype: float64\n"
     ]
    },
    {
     "name": "stderr",
     "output_type": "stream",
     "text": [
      "/Users/Roman/opt/anaconda3/lib/python3.9/site-packages/seaborn/_decorators.py:36: FutureWarning: Pass the following variable as a keyword arg: x. From version 0.12, the only valid positional argument will be `data`, and passing other arguments without an explicit keyword will result in an error or misinterpretation.\n",
      "  warnings.warn(\n"
     ]
    },
    {
     "data": {
      "image/png": "[encoded data removed]",
      "text/plain": [
       "<Figure size 640x480 with 1 Axes>"
      ]
     },
     "metadata": {},
     "output_type": "display_data"
    },
    {
     "name": "stdout",
     "output_type": "stream",
     "text": [
      "PC\n",
      "count    250.00000\n",
      "mean       0.25060\n",
      "std        0.49464\n",
      "min        0.01000\n",
      "25%        0.03000\n",
      "50%        0.08000\n",
      "75%        0.24000\n",
      "max        5.14000\n",
      "Name: total_sales, dtype: float64\n"
     ]
    },
    {
     "name": "stderr",
     "output_type": "stream",
     "text": [
      "/Users/Roman/opt/anaconda3/lib/python3.9/site-packages/seaborn/_decorators.py:36: FutureWarning: Pass the following variable as a keyword arg: x. From version 0.12, the only valid positional argument will be `data`, and passing other arguments without an explicit keyword will result in an error or misinterpretation.\n",
      "  warnings.warn(\n"
     ]
    },
    {
     "data": {
      "image/png": "[encoded data removed]",
      "text/plain": [
       "<Figure size 640x480 with 1 Axes>"
      ]
     },
     "metadata": {},
     "output_type": "display_data"
    },
    {
     "name": "stdout",
     "output_type": "stream",
     "text": [
      "PSV\n",
      "count    411.000000\n",
      "mean       0.119659\n",
      "std        0.203011\n",
      "min        0.010000\n",
      "25%        0.020000\n",
      "50%        0.050000\n",
      "75%        0.120000\n",
      "max        1.960000\n",
      "Name: total_sales, dtype: float64\n"
     ]
    },
    {
     "name": "stderr",
     "output_type": "stream",
     "text": [
      "/Users/Roman/opt/anaconda3/lib/python3.9/site-packages/seaborn/_decorators.py:36: FutureWarning: Pass the following variable as a keyword arg: x. From version 0.12, the only valid positional argument will be `data`, and passing other arguments without an explicit keyword will result in an error or misinterpretation.\n",
      "  warnings.warn(\n"
     ]
    },
    {
     "data": {
      "image/png": "[encoded data removed]",
      "text/plain": [
       "<Figure size 640x480 with 1 Axes>"
      ]
     },
     "metadata": {},
     "output_type": "display_data"
    },
    {
     "name": "stdout",
     "output_type": "stream",
     "text": [
      "PSP\n",
      "count    173.000000\n",
      "mean       0.064682\n",
      "std        0.071296\n",
      "min        0.010000\n",
      "25%        0.020000\n",
      "50%        0.030000\n",
      "75%        0.090000\n",
      "max        0.360000\n",
      "Name: total_sales, dtype: float64\n"
     ]
    },
    {
     "name": "stderr",
     "output_type": "stream",
     "text": [
      "/Users/Roman/opt/anaconda3/lib/python3.9/site-packages/seaborn/_decorators.py:36: FutureWarning: Pass the following variable as a keyword arg: x. From version 0.12, the only valid positional argument will be `data`, and passing other arguments without an explicit keyword will result in an error or misinterpretation.\n",
      "  warnings.warn(\n"
     ]
    },
    {
     "data": {
      "image/png": "[encoded data removed]",
      "text/plain": [
       "<Figure size 640x480 with 1 Axes>"
      ]
     },
     "metadata": {},
     "output_type": "display_data"
    }
   ],
   "source": [
    "for plat in data2['platform'].unique() :\n",
    "    print(str(plat))\n",
    "    print(data2.query('platform == @plat')['total_sales'].describe())\n",
    "    sns.boxplot(data2.query('platform == @plat')['total_sales']).set(title=str(plat))\n",
    "    plt.show()"
   ]
  },
  {
   "cell_type": "markdown",
   "id": "0f514549",
   "metadata": {},
   "source": [
    "* PS3: медианное значение - 200 тыс. копий. В межквартильный размах входят показатели от 50 тыс. до 610 тыс. копий. Четыре рекордных показателя - 8,9,14 и 21 млн копий;\n",
    "* X360: медианное значение - 310 тыс. копий. В межквартильный размах входят показатели от 100 тыс. до 870 тыс. копий. Три рекордных показателя - 10.5, 14, и 16 млн копий;\n",
    "* PS4: медианное значение - 200 тыс. копий. В межквартильный размах входят показатели от 60 тыс. до 730 тыс. копий. Три рекордных показателя - 8.5, 12.5 и 14.6 млн копий;\n",
    "* 3DS: медианное значение - 110 тыс. копий. В межквартильный размах входят показатели от 40 тыс. до 312 тыс. копий. Три рекордных показателя - 10, 12 и 14.6 млн копий;\n",
    "* DS: медианное значение - 50 тыс. копий. В межквартильный размах входят показатели от 20 тыс. до 185 тыс. копий. Два рекордных показателя - 1 и 8 млн копий;\n",
    "* XOne: медианное значение - 220 тыс. копий. В межквартильный размах входят показатели от 60 тыс. до 685 тыс. копий. Два рекордных показателя - 5.3, 7 млн копий;\n",
    "* WiiU: медианное значение - 220 тыс. копий. В межквартильный размах входят показатели от 80 тыс. до 525 тыс. копий. Два рекордных показателя - 5.5, 7.4 млн копий;\n",
    "* Wii: медианное значение - 180 тыс. копий. В межквартильный размах входят показатели от 62 тыс. до 687 тыс. копий. Два рекордных показателя - 3.6, 6.7 млн копий;\n",
    "* PC: медианное значение - 80 тыс. копий. В межквартильный размах входят показатели от 30 тыс. до 240 тыс. копий. Три рекордных показателя - 2.3, 3.1, 5.1 млн копий;\n",
    "* PSV: медианное значение - 50 тыс. копий. В межквартильный размах входят показатели от 20 тыс. до 120 тыс. копий. Три рекордных показателя - 1.30, 1.5, 2 млн копий;\n",
    "* PSP: медианное значение - 30 тыс. копий. В межквартильный размах входят показатели от 20 тыс. до 90 тыс. копий. Четыре рекордных показателя - в диапазоне от 300 до 350 тыс. копий.\n"
   ]
  },
  {
   "cell_type": "markdown",
   "id": "25e66e3b",
   "metadata": {},
   "source": [
    "**Вывод:**   \n",
    "Самая успешная платформа по количеству проданных видеоигр - X360. У платформы самые большие медиана, нижний и верхний квартили.   \n",
    "Относительно высокие показатели также у Wii, WiiU, PS3, PS4, XOne.   \n",
    "Самые худшие показатели у PSV и PSP."
   ]
  },
  {
   "cell_type": "markdown",
   "id": "b2d0e25c",
   "metadata": {},
   "source": [
    "### 3.5. Как влияют на продажи внутри одной популярной платформы отзывы пользователей и критиков?  "
   ]
  },
  {
   "cell_type": "markdown",
   "id": "3798b581",
   "metadata": {},
   "source": [
    "Самая популярная платформа в актуальной периоде - **PS4**. Возьмём её для посчета корреляции.   \n",
    "Построим диаграмму рассеяния и посчитаем корреляцию между отзывами и продажами."
   ]
  },
  {
   "cell_type": "code",
   "execution_count": 44,
   "id": "42527b35",
   "metadata": {
    "scrolled": true
   },
   "outputs": [
    {
     "data": {
      "image/png": "[encoded data removed]",
      "text/plain": [
       "<Figure size 900x900 with 9 Axes>"
      ]
     },
     "metadata": {},
     "output_type": "display_data"
    }
   ],
   "source": [
    "pd.plotting.scatter_matrix(data2.query('platform == \"PS4\"')\\\n",
    "                               [['total_sales', 'critic_score', 'user_score']],\\\n",
    "                               figsize=(9, 9))\n",
    "plt.show()"
   ]
  },
  {
   "cell_type": "markdown",
   "id": "0b54c24f",
   "metadata": {},
   "source": [
    "Посчитаем корреляцию между отзывами и продажами:"
   ]
  },
  {
   "cell_type": "code",
   "execution_count": 45,
   "id": "df85db8f",
   "metadata": {},
   "outputs": [
    {
     "name": "stdout",
     "output_type": "stream",
     "text": [
      "Корреляция отзывов критиков и продаж для платформы PS4: 0.406567902061781\n",
      "Корреляция отзывов пользователей и продаж для платформы PS4: -0.031957110204556376\n"
     ]
    }
   ],
   "source": [
    "print(\"Корреляция отзывов критиков и продаж для платформы PS4:\", data2.query('platform == \"PS4\"')['total_sales'].\\\n",
    "                                        corr(data2.query('platform == \"PS4\"')['critic_score']))\n",
    "print(\"Корреляция отзывов пользователей и продаж для платформы PS4:\", data2.query('platform == \"PS4\"')['total_sales'].\\\n",
    "                                        corr(data2.query('platform == \"PS4\"')['user_score']))"
   ]
  },
  {
   "cell_type": "markdown",
   "id": "289853ef",
   "metadata": {},
   "source": [
    "Корреляция глобальных продаж с отзывами пользователей практически равна нулю, а с отзывами критиков равна 0.4. Отзывы пользователей никак не влияют на продажи, а отзывы критиков, возможно, имеют небольшое влияние."
   ]
  },
  {
   "cell_type": "markdown",
   "id": "b79117ef",
   "metadata": {},
   "source": [
    "Рассмотрим ещё одную крупную платформу, чтобы сделать более убедительные выводы."
   ]
  },
  {
   "cell_type": "code",
   "execution_count": 46,
   "id": "91946688",
   "metadata": {
    "scrolled": true
   },
   "outputs": [
    {
     "data": {
      "image/png": "[encoded data removed]",
      "text/plain": [
       "<Figure size 900x900 with 9 Axes>"
      ]
     },
     "metadata": {},
     "output_type": "display_data"
    }
   ],
   "source": [
    "pd.plotting.scatter_matrix(data2.query('platform == \"X360\"')\\\n",
    "                               [['total_sales', 'critic_score', 'user_score']],\\\n",
    "                               figsize=(9, 9))\n",
    "plt.show()"
   ]
  },
  {
   "cell_type": "code",
   "execution_count": 47,
   "id": "fe40ec02",
   "metadata": {},
   "outputs": [
    {
     "name": "stdout",
     "output_type": "stream",
     "text": [
      "Корреляция отзывов критиков и продаж для платформы X360: 0.36057348885073365\n",
      "Корреляция отзывов пользователей и продаж для платформы X360: 0.0061639786462133256\n"
     ]
    }
   ],
   "source": [
    "print(\"Корреляция отзывов критиков и продаж для платформы X360:\", data2.query('platform == \"X360\"')['total_sales'].\\\n",
    "                                        corr(data2.query('platform == \"X360\"')['critic_score']))\n",
    "print(\"Корреляция отзывов пользователей и продаж для платформы X360:\", data2.query('platform == \"X360\"')['total_sales'].\\\n",
    "                                        corr(data2.query('platform == \"X360\"')['user_score']))"
   ]
  },
  {
   "cell_type": "markdown",
   "id": "85f37a72",
   "metadata": {},
   "source": [
    "Корреляции у X360 такие же как у PS4. Можно делать окончательный вывод."
   ]
  },
  {
   "cell_type": "markdown",
   "id": "f966a071",
   "metadata": {},
   "source": [
    "**Вывод:**   \n",
    "На примере двух крупных платформ мы пришли к выводу, что отзывы критиков и пользователей **не оказывают существенного влияния на продажи игр**. При этом можно отметить, что отзывы критиков показывают небольшую положительную корреляцию с глобальными продажами."
   ]
  },
  {
   "cell_type": "markdown",
   "id": "9c16810e",
   "metadata": {},
   "source": [
    "### 3.6. Рассмотреть общее распределение игр по жанрам и основные характеристики самых прибыльных жанрах? Выделяются ли жанры с высокими и низкими продажами?"
   ]
  },
  {
   "cell_type": "markdown",
   "id": "7b2464bb",
   "metadata": {},
   "source": [
    "Сгруппируем данные по жанрам, чтобы увидеть, объемы продаж по каждому жанру, а также сделаем столбец со средним значением продаж копий игры для каждого жанра."
   ]
  },
  {
   "cell_type": "code",
   "execution_count": 48,
   "id": "1a026df7",
   "metadata": {},
   "outputs": [
    {
     "data": {
      "text/html": [
       "<div>\n",
       "<style scoped>\n",
       "    .dataframe tbody tr th:only-of-type {\n",
       "        vertical-align: middle;\n",
       "    }\n",
       "\n",
       "    .dataframe tbody tr th {\n",
       "        vertical-align: top;\n",
       "    }\n",
       "\n",
       "    .dataframe thead th {\n",
       "        text-align: right;\n",
       "    }\n",
       "</style>\n",
       "<table border=\"1\" class=\"dataframe\">\n",
       "  <thead>\n",
       "    <tr style=\"text-align: right;\">\n",
       "      <th></th>\n",
       "      <th>genre</th>\n",
       "      <th>total_sales</th>\n",
       "      <th>quantity</th>\n",
       "      <th>sales_per_game</th>\n",
       "    </tr>\n",
       "  </thead>\n",
       "  <tbody>\n",
       "    <tr>\n",
       "      <th>0</th>\n",
       "      <td>Adventure</td>\n",
       "      <td>302</td>\n",
       "      <td>29.43</td>\n",
       "      <td>10.261638</td>\n",
       "    </tr>\n",
       "    <tr>\n",
       "      <th>1</th>\n",
       "      <td>Puzzle</td>\n",
       "      <td>28</td>\n",
       "      <td>4.89</td>\n",
       "      <td>5.725971</td>\n",
       "    </tr>\n",
       "    <tr>\n",
       "      <th>2</th>\n",
       "      <td>Strategy</td>\n",
       "      <td>71</td>\n",
       "      <td>13.34</td>\n",
       "      <td>5.322339</td>\n",
       "    </tr>\n",
       "    <tr>\n",
       "      <th>3</th>\n",
       "      <td>Fighting</td>\n",
       "      <td>109</td>\n",
       "      <td>44.49</td>\n",
       "      <td>2.449989</td>\n",
       "    </tr>\n",
       "    <tr>\n",
       "      <th>4</th>\n",
       "      <td>Action</td>\n",
       "      <td>1031</td>\n",
       "      <td>441.12</td>\n",
       "      <td>2.337232</td>\n",
       "    </tr>\n",
       "    <tr>\n",
       "      <th>5</th>\n",
       "      <td>Simulation</td>\n",
       "      <td>80</td>\n",
       "      <td>35.12</td>\n",
       "      <td>2.277904</td>\n",
       "    </tr>\n",
       "    <tr>\n",
       "      <th>6</th>\n",
       "      <td>Misc</td>\n",
       "      <td>192</td>\n",
       "      <td>85.04</td>\n",
       "      <td>2.257761</td>\n",
       "    </tr>\n",
       "    <tr>\n",
       "      <th>7</th>\n",
       "      <td>Racing</td>\n",
       "      <td>115</td>\n",
       "      <td>53.50</td>\n",
       "      <td>2.149533</td>\n",
       "    </tr>\n",
       "    <tr>\n",
       "      <th>8</th>\n",
       "      <td>Role-Playing</td>\n",
       "      <td>370</td>\n",
       "      <td>192.80</td>\n",
       "      <td>1.919087</td>\n",
       "    </tr>\n",
       "    <tr>\n",
       "      <th>9</th>\n",
       "      <td>Sports</td>\n",
       "      <td>268</td>\n",
       "      <td>181.07</td>\n",
       "      <td>1.480091</td>\n",
       "    </tr>\n",
       "    <tr>\n",
       "      <th>10</th>\n",
       "      <td>Platform</td>\n",
       "      <td>85</td>\n",
       "      <td>61.00</td>\n",
       "      <td>1.393443</td>\n",
       "    </tr>\n",
       "    <tr>\n",
       "      <th>11</th>\n",
       "      <td>Shooter</td>\n",
       "      <td>235</td>\n",
       "      <td>304.73</td>\n",
       "      <td>0.771174</td>\n",
       "    </tr>\n",
       "  </tbody>\n",
       "</table>\n",
       "</div>"
      ],
      "text/plain": [
       "           genre  total_sales  quantity  sales_per_game\n",
       "0      Adventure          302     29.43       10.261638\n",
       "1         Puzzle           28      4.89        5.725971\n",
       "2       Strategy           71     13.34        5.322339\n",
       "3       Fighting          109     44.49        2.449989\n",
       "4         Action         1031    441.12        2.337232\n",
       "5     Simulation           80     35.12        2.277904\n",
       "6           Misc          192     85.04        2.257761\n",
       "7         Racing          115     53.50        2.149533\n",
       "8   Role-Playing          370    192.80        1.919087\n",
       "9         Sports          268    181.07        1.480091\n",
       "10      Platform           85     61.00        1.393443\n",
       "11       Shooter          235    304.73        0.771174"
      ]
     },
     "execution_count": 48,
     "metadata": {},
     "output_type": "execute_result"
    }
   ],
   "source": [
    "genre_sales = data2.groupby(\"genre\")['total_sales']\\\n",
    "                                                    .agg({'count', 'sum'})\\\n",
    "                                                    .reset_index()\n",
    "genre_sales.columns = [\"genre\", \"total_sales\", \"quantity\"]\n",
    "genre_sales['sales_per_game'] = genre_sales['total_sales'] / genre_sales['quantity']\n",
    "genre_sales.sort_values(by='sales_per_game', ascending=False).reset_index(drop=True)"
   ]
  },
  {
   "cell_type": "markdown",
   "id": "a2797c43",
   "metadata": {},
   "source": [
    "  Рассмотрим этот же третий показатель окупаемости по трём самым прибыльным жанрам, только в разрезе по платформам."
   ]
  },
  {
   "cell_type": "code",
   "execution_count": 49,
   "id": "5351b727",
   "metadata": {},
   "outputs": [],
   "source": [
    "top_genres = ['Shooter', 'Platform', 'Sports']"
   ]
  },
  {
   "cell_type": "code",
   "execution_count": 50,
   "id": "471c9995",
   "metadata": {},
   "outputs": [
    {
     "data": {
      "text/html": [
       "<div>\n",
       "<style scoped>\n",
       "    .dataframe tbody tr th:only-of-type {\n",
       "        vertical-align: middle;\n",
       "    }\n",
       "\n",
       "    .dataframe tbody tr th {\n",
       "        vertical-align: top;\n",
       "    }\n",
       "\n",
       "    .dataframe thead th {\n",
       "        text-align: right;\n",
       "    }\n",
       "</style>\n",
       "<table border=\"1\" class=\"dataframe\">\n",
       "  <thead>\n",
       "    <tr style=\"text-align: right;\">\n",
       "      <th>platform</th>\n",
       "      <th>3DS</th>\n",
       "      <th>DS</th>\n",
       "      <th>PC</th>\n",
       "      <th>PS3</th>\n",
       "      <th>PS4</th>\n",
       "      <th>PSP</th>\n",
       "      <th>PSV</th>\n",
       "      <th>Wii</th>\n",
       "      <th>WiiU</th>\n",
       "      <th>X360</th>\n",
       "      <th>XOne</th>\n",
       "    </tr>\n",
       "    <tr>\n",
       "      <th>genre</th>\n",
       "      <th></th>\n",
       "      <th></th>\n",
       "      <th></th>\n",
       "      <th></th>\n",
       "      <th></th>\n",
       "      <th></th>\n",
       "      <th></th>\n",
       "      <th></th>\n",
       "      <th></th>\n",
       "      <th></th>\n",
       "      <th></th>\n",
       "    </tr>\n",
       "  </thead>\n",
       "  <tbody>\n",
       "    <tr>\n",
       "      <th>Platform</th>\n",
       "      <td>1.005789</td>\n",
       "      <td>0.345</td>\n",
       "      <td>0.046667</td>\n",
       "      <td>0.387273</td>\n",
       "      <td>0.640833</td>\n",
       "      <td>NaN</td>\n",
       "      <td>0.282500</td>\n",
       "      <td>1.125000</td>\n",
       "      <td>1.266471</td>\n",
       "      <td>0.356667</td>\n",
       "      <td>0.186000</td>\n",
       "    </tr>\n",
       "    <tr>\n",
       "      <th>Shooter</th>\n",
       "      <td>0.065000</td>\n",
       "      <td>NaN</td>\n",
       "      <td>0.348049</td>\n",
       "      <td>1.207800</td>\n",
       "      <td>2.160000</td>\n",
       "      <td>NaN</td>\n",
       "      <td>0.585000</td>\n",
       "      <td>NaN</td>\n",
       "      <td>0.601000</td>\n",
       "      <td>1.483673</td>\n",
       "      <td>1.587632</td>\n",
       "    </tr>\n",
       "    <tr>\n",
       "      <th>Sports</th>\n",
       "      <td>0.352500</td>\n",
       "      <td>0.055</td>\n",
       "      <td>0.191765</td>\n",
       "      <td>0.711746</td>\n",
       "      <td>1.208913</td>\n",
       "      <td>0.141</td>\n",
       "      <td>0.152857</td>\n",
       "      <td>0.301429</td>\n",
       "      <td>0.395000</td>\n",
       "      <td>0.827045</td>\n",
       "      <td>0.703684</td>\n",
       "    </tr>\n",
       "  </tbody>\n",
       "</table>\n",
       "</div>"
      ],
      "text/plain": [
       "platform       3DS     DS        PC       PS3       PS4    PSP       PSV  \\\n",
       "genre                                                                      \n",
       "Platform  1.005789  0.345  0.046667  0.387273  0.640833    NaN  0.282500   \n",
       "Shooter   0.065000    NaN  0.348049  1.207800  2.160000    NaN  0.585000   \n",
       "Sports    0.352500  0.055  0.191765  0.711746  1.208913  0.141  0.152857   \n",
       "\n",
       "platform       Wii      WiiU      X360      XOne  \n",
       "genre                                             \n",
       "Platform  1.125000  1.266471  0.356667  0.186000  \n",
       "Shooter        NaN  0.601000  1.483673  1.587632  \n",
       "Sports    0.301429  0.395000  0.827045  0.703684  "
      ]
     },
     "execution_count": 50,
     "metadata": {},
     "output_type": "execute_result"
    }
   ],
   "source": [
    "data2.query('genre in @top_genres').pivot_table(index='genre', columns='platform', \\\n",
    "                                                values='total_sales', aggfunc='mean')"
   ]
  },
  {
   "cell_type": "markdown",
   "id": "7f6258c4",
   "metadata": {},
   "source": [
    "**Вывод**:   \n",
    "   \n",
    "Самые прибыльные жанры - **Shooter, Platform, Sports**.   \n",
    "   \n",
    "Самые низкоприбыльные жанры - **Strategy, Puzzle, Adventure**.   \n",
    "    \n",
    "В таблице заметно, что количество проданных копий и глобальные продажи по жанрам не коррелируют с количеством игр по данному жанру.   \n",
    "\n",
    "На каких платформах лучшие показатели самых прибыльных жанров:\n",
    "- Platform: 3DS, Wii,WiiU.   \n",
    "- Shooter: PS3, PS4, X360, XOne.   \n",
    "- Sports: PS3, PS4, X360, XOne."
   ]
  },
  {
   "cell_type": "markdown",
   "id": "90165fc9",
   "metadata": {},
   "source": [
    "## 4. Портрет пользователя каждого региона"
   ]
  },
  {
   "cell_type": "markdown",
   "id": "7c0ebc08",
   "metadata": {},
   "source": [
    "Определим для пользователя каждого региона (NA, EU, JP):   \n",
    "* Самые популярные платформы (топ-5).   \n",
    "* Самые популярные жанры (топ-5). \n",
    "* Влияет ли рейтинг ESRB на продажи в отдельном регионе?"
   ]
  },
  {
   "cell_type": "markdown",
   "id": "301df07c",
   "metadata": {},
   "source": [
    "### 4.1. Регион NA"
   ]
  },
  {
   "cell_type": "markdown",
   "id": "9c082e11",
   "metadata": {},
   "source": [
    "Самые популярные платформы (топ-5)"
   ]
  },
  {
   "cell_type": "code",
   "execution_count": 51,
   "id": "676b4b6c",
   "metadata": {},
   "outputs": [
    {
     "data": {
      "text/html": [
       "<div>\n",
       "<style scoped>\n",
       "    .dataframe tbody tr th:only-of-type {\n",
       "        vertical-align: middle;\n",
       "    }\n",
       "\n",
       "    .dataframe tbody tr th {\n",
       "        vertical-align: top;\n",
       "    }\n",
       "\n",
       "    .dataframe thead th {\n",
       "        text-align: right;\n",
       "    }\n",
       "</style>\n",
       "<table border=\"1\" class=\"dataframe\">\n",
       "  <thead>\n",
       "    <tr style=\"text-align: right;\">\n",
       "      <th></th>\n",
       "      <th>platform</th>\n",
       "      <th>count</th>\n",
       "      <th>sum</th>\n",
       "    </tr>\n",
       "  </thead>\n",
       "  <tbody>\n",
       "    <tr>\n",
       "      <th>0</th>\n",
       "      <td>X360</td>\n",
       "      <td>292</td>\n",
       "      <td>140.05</td>\n",
       "    </tr>\n",
       "    <tr>\n",
       "      <th>1</th>\n",
       "      <td>PS4</td>\n",
       "      <td>392</td>\n",
       "      <td>108.74</td>\n",
       "    </tr>\n",
       "    <tr>\n",
       "      <th>2</th>\n",
       "      <td>PS3</td>\n",
       "      <td>493</td>\n",
       "      <td>103.38</td>\n",
       "    </tr>\n",
       "    <tr>\n",
       "      <th>3</th>\n",
       "      <td>XOne</td>\n",
       "      <td>247</td>\n",
       "      <td>93.12</td>\n",
       "    </tr>\n",
       "    <tr>\n",
       "      <th>4</th>\n",
       "      <td>3DS</td>\n",
       "      <td>396</td>\n",
       "      <td>55.31</td>\n",
       "    </tr>\n",
       "  </tbody>\n",
       "</table>\n",
       "</div>"
      ],
      "text/plain": [
       "  platform  count     sum\n",
       "0     X360    292  140.05\n",
       "1      PS4    392  108.74\n",
       "2      PS3    493  103.38\n",
       "3     XOne    247   93.12\n",
       "4      3DS    396   55.31"
      ]
     },
     "execution_count": 51,
     "metadata": {},
     "output_type": "execute_result"
    }
   ],
   "source": [
    "data2.groupby('platform')['na_sales'].agg({'count', 'sum'}).sort_values(by='sum', ascending=False).reset_index().head(5)"
   ]
  },
  {
   "cell_type": "markdown",
   "id": "77733915",
   "metadata": {},
   "source": [
    "Самые популярные жанры (топ-5)"
   ]
  },
  {
   "cell_type": "code",
   "execution_count": 52,
   "id": "acb81452",
   "metadata": {},
   "outputs": [
    {
     "data": {
      "text/html": [
       "<div>\n",
       "<style scoped>\n",
       "    .dataframe tbody tr th:only-of-type {\n",
       "        vertical-align: middle;\n",
       "    }\n",
       "\n",
       "    .dataframe tbody tr th {\n",
       "        vertical-align: top;\n",
       "    }\n",
       "\n",
       "    .dataframe thead th {\n",
       "        text-align: right;\n",
       "    }\n",
       "</style>\n",
       "<table border=\"1\" class=\"dataframe\">\n",
       "  <thead>\n",
       "    <tr style=\"text-align: right;\">\n",
       "      <th></th>\n",
       "      <th>genre</th>\n",
       "      <th>sum</th>\n",
       "    </tr>\n",
       "  </thead>\n",
       "  <tbody>\n",
       "    <tr>\n",
       "      <th>0</th>\n",
       "      <td>Action</td>\n",
       "      <td>177.84</td>\n",
       "    </tr>\n",
       "    <tr>\n",
       "      <th>1</th>\n",
       "      <td>Shooter</td>\n",
       "      <td>144.77</td>\n",
       "    </tr>\n",
       "    <tr>\n",
       "      <th>2</th>\n",
       "      <td>Sports</td>\n",
       "      <td>81.53</td>\n",
       "    </tr>\n",
       "    <tr>\n",
       "      <th>3</th>\n",
       "      <td>Role-Playing</td>\n",
       "      <td>64.00</td>\n",
       "    </tr>\n",
       "    <tr>\n",
       "      <th>4</th>\n",
       "      <td>Misc</td>\n",
       "      <td>38.19</td>\n",
       "    </tr>\n",
       "  </tbody>\n",
       "</table>\n",
       "</div>"
      ],
      "text/plain": [
       "          genre     sum\n",
       "0        Action  177.84\n",
       "1       Shooter  144.77\n",
       "2        Sports   81.53\n",
       "3  Role-Playing   64.00\n",
       "4          Misc   38.19"
      ]
     },
     "execution_count": 52,
     "metadata": {},
     "output_type": "execute_result"
    }
   ],
   "source": [
    "data2.groupby('genre')['na_sales'].agg({'sum'}).sort_values(by='sum', ascending=False).reset_index().head(5)\n"
   ]
  },
  {
   "cell_type": "markdown",
   "id": "4cc17020",
   "metadata": {},
   "source": [
    "Продажи по рейтингу ESRB"
   ]
  },
  {
   "cell_type": "code",
   "execution_count": 53,
   "id": "68ad5992",
   "metadata": {},
   "outputs": [
    {
     "data": {
      "text/html": [
       "<div>\n",
       "<style scoped>\n",
       "    .dataframe tbody tr th:only-of-type {\n",
       "        vertical-align: middle;\n",
       "    }\n",
       "\n",
       "    .dataframe tbody tr th {\n",
       "        vertical-align: top;\n",
       "    }\n",
       "\n",
       "    .dataframe thead th {\n",
       "        text-align: right;\n",
       "    }\n",
       "</style>\n",
       "<table border=\"1\" class=\"dataframe\">\n",
       "  <thead>\n",
       "    <tr style=\"text-align: right;\">\n",
       "      <th></th>\n",
       "      <th>rating</th>\n",
       "      <th>sum</th>\n",
       "    </tr>\n",
       "  </thead>\n",
       "  <tbody>\n",
       "    <tr>\n",
       "      <th>0</th>\n",
       "      <td>M</td>\n",
       "      <td>231.57</td>\n",
       "    </tr>\n",
       "    <tr>\n",
       "      <th>1</th>\n",
       "      <td>E</td>\n",
       "      <td>114.37</td>\n",
       "    </tr>\n",
       "    <tr>\n",
       "      <th>2</th>\n",
       "      <td>unknown</td>\n",
       "      <td>103.31</td>\n",
       "    </tr>\n",
       "    <tr>\n",
       "      <th>3</th>\n",
       "      <td>E10+</td>\n",
       "      <td>75.70</td>\n",
       "    </tr>\n",
       "    <tr>\n",
       "      <th>4</th>\n",
       "      <td>T</td>\n",
       "      <td>66.02</td>\n",
       "    </tr>\n",
       "  </tbody>\n",
       "</table>\n",
       "</div>"
      ],
      "text/plain": [
       "    rating     sum\n",
       "0        M  231.57\n",
       "1        E  114.37\n",
       "2  unknown  103.31\n",
       "3     E10+   75.70\n",
       "4        T   66.02"
      ]
     },
     "execution_count": 53,
     "metadata": {},
     "output_type": "execute_result"
    }
   ],
   "source": [
    "data2.groupby('rating')['na_sales'].agg({'sum'}).sort_values(by='sum', ascending=False).reset_index()"
   ]
  },
  {
   "cell_type": "markdown",
   "id": "12caa045",
   "metadata": {},
   "source": [
    "### 4.2. Регион EU"
   ]
  },
  {
   "cell_type": "markdown",
   "id": "2257ba9b",
   "metadata": {},
   "source": [
    "Самые популярные платформы (топ-5)"
   ]
  },
  {
   "cell_type": "code",
   "execution_count": 54,
   "id": "636fa644",
   "metadata": {},
   "outputs": [
    {
     "data": {
      "text/html": [
       "<div>\n",
       "<style scoped>\n",
       "    .dataframe tbody tr th:only-of-type {\n",
       "        vertical-align: middle;\n",
       "    }\n",
       "\n",
       "    .dataframe tbody tr th {\n",
       "        vertical-align: top;\n",
       "    }\n",
       "\n",
       "    .dataframe thead th {\n",
       "        text-align: right;\n",
       "    }\n",
       "</style>\n",
       "<table border=\"1\" class=\"dataframe\">\n",
       "  <thead>\n",
       "    <tr style=\"text-align: right;\">\n",
       "      <th></th>\n",
       "      <th>platform</th>\n",
       "      <th>count</th>\n",
       "      <th>sum</th>\n",
       "    </tr>\n",
       "  </thead>\n",
       "  <tbody>\n",
       "    <tr>\n",
       "      <th>0</th>\n",
       "      <td>PS4</td>\n",
       "      <td>392</td>\n",
       "      <td>141.09</td>\n",
       "    </tr>\n",
       "    <tr>\n",
       "      <th>1</th>\n",
       "      <td>PS3</td>\n",
       "      <td>493</td>\n",
       "      <td>106.86</td>\n",
       "    </tr>\n",
       "    <tr>\n",
       "      <th>2</th>\n",
       "      <td>X360</td>\n",
       "      <td>292</td>\n",
       "      <td>74.52</td>\n",
       "    </tr>\n",
       "    <tr>\n",
       "      <th>3</th>\n",
       "      <td>XOne</td>\n",
       "      <td>247</td>\n",
       "      <td>51.59</td>\n",
       "    </tr>\n",
       "    <tr>\n",
       "      <th>4</th>\n",
       "      <td>3DS</td>\n",
       "      <td>396</td>\n",
       "      <td>42.64</td>\n",
       "    </tr>\n",
       "  </tbody>\n",
       "</table>\n",
       "</div>"
      ],
      "text/plain": [
       "  platform  count     sum\n",
       "0      PS4    392  141.09\n",
       "1      PS3    493  106.86\n",
       "2     X360    292   74.52\n",
       "3     XOne    247   51.59\n",
       "4      3DS    396   42.64"
      ]
     },
     "execution_count": 54,
     "metadata": {},
     "output_type": "execute_result"
    }
   ],
   "source": [
    "data2.groupby('platform')['eu_sales'].agg({'count', 'sum'}).sort_values(by='sum', ascending=False).reset_index().head(5)\n"
   ]
  },
  {
   "cell_type": "markdown",
   "id": "dd2b213f",
   "metadata": {},
   "source": [
    "Самые популярные жанры (топ-5)"
   ]
  },
  {
   "cell_type": "code",
   "execution_count": 55,
   "id": "a9989a53",
   "metadata": {},
   "outputs": [
    {
     "data": {
      "text/html": [
       "<div>\n",
       "<style scoped>\n",
       "    .dataframe tbody tr th:only-of-type {\n",
       "        vertical-align: middle;\n",
       "    }\n",
       "\n",
       "    .dataframe tbody tr th {\n",
       "        vertical-align: top;\n",
       "    }\n",
       "\n",
       "    .dataframe thead th {\n",
       "        text-align: right;\n",
       "    }\n",
       "</style>\n",
       "<table border=\"1\" class=\"dataframe\">\n",
       "  <thead>\n",
       "    <tr style=\"text-align: right;\">\n",
       "      <th></th>\n",
       "      <th>genre</th>\n",
       "      <th>sum</th>\n",
       "    </tr>\n",
       "  </thead>\n",
       "  <tbody>\n",
       "    <tr>\n",
       "      <th>0</th>\n",
       "      <td>Action</td>\n",
       "      <td>159.34</td>\n",
       "    </tr>\n",
       "    <tr>\n",
       "      <th>1</th>\n",
       "      <td>Shooter</td>\n",
       "      <td>113.47</td>\n",
       "    </tr>\n",
       "    <tr>\n",
       "      <th>2</th>\n",
       "      <td>Sports</td>\n",
       "      <td>69.09</td>\n",
       "    </tr>\n",
       "    <tr>\n",
       "      <th>3</th>\n",
       "      <td>Role-Playing</td>\n",
       "      <td>48.53</td>\n",
       "    </tr>\n",
       "    <tr>\n",
       "      <th>4</th>\n",
       "      <td>Racing</td>\n",
       "      <td>27.29</td>\n",
       "    </tr>\n",
       "  </tbody>\n",
       "</table>\n",
       "</div>"
      ],
      "text/plain": [
       "          genre     sum\n",
       "0        Action  159.34\n",
       "1       Shooter  113.47\n",
       "2        Sports   69.09\n",
       "3  Role-Playing   48.53\n",
       "4        Racing   27.29"
      ]
     },
     "execution_count": 55,
     "metadata": {},
     "output_type": "execute_result"
    }
   ],
   "source": [
    "data2.groupby('genre')['eu_sales'].agg({'sum'}).sort_values(by='sum', ascending=False).reset_index().head(5)"
   ]
  },
  {
   "cell_type": "markdown",
   "id": "1009bd7e",
   "metadata": {},
   "source": [
    "Продажи по рейтингу ESRB"
   ]
  },
  {
   "cell_type": "code",
   "execution_count": 56,
   "id": "50d0320a",
   "metadata": {},
   "outputs": [
    {
     "data": {
      "text/html": [
       "<div>\n",
       "<style scoped>\n",
       "    .dataframe tbody tr th:only-of-type {\n",
       "        vertical-align: middle;\n",
       "    }\n",
       "\n",
       "    .dataframe tbody tr th {\n",
       "        vertical-align: top;\n",
       "    }\n",
       "\n",
       "    .dataframe thead th {\n",
       "        text-align: right;\n",
       "    }\n",
       "</style>\n",
       "<table border=\"1\" class=\"dataframe\">\n",
       "  <thead>\n",
       "    <tr style=\"text-align: right;\">\n",
       "      <th></th>\n",
       "      <th>rating</th>\n",
       "      <th>sum</th>\n",
       "    </tr>\n",
       "  </thead>\n",
       "  <tbody>\n",
       "    <tr>\n",
       "      <th>0</th>\n",
       "      <td>M</td>\n",
       "      <td>193.96</td>\n",
       "    </tr>\n",
       "    <tr>\n",
       "      <th>1</th>\n",
       "      <td>E</td>\n",
       "      <td>113.03</td>\n",
       "    </tr>\n",
       "    <tr>\n",
       "      <th>2</th>\n",
       "      <td>unknown</td>\n",
       "      <td>91.50</td>\n",
       "    </tr>\n",
       "    <tr>\n",
       "      <th>3</th>\n",
       "      <td>E10+</td>\n",
       "      <td>55.37</td>\n",
       "    </tr>\n",
       "    <tr>\n",
       "      <th>4</th>\n",
       "      <td>T</td>\n",
       "      <td>52.96</td>\n",
       "    </tr>\n",
       "  </tbody>\n",
       "</table>\n",
       "</div>"
      ],
      "text/plain": [
       "    rating     sum\n",
       "0        M  193.96\n",
       "1        E  113.03\n",
       "2  unknown   91.50\n",
       "3     E10+   55.37\n",
       "4        T   52.96"
      ]
     },
     "execution_count": 56,
     "metadata": {},
     "output_type": "execute_result"
    }
   ],
   "source": [
    "data2.groupby('rating')['eu_sales'].agg({'sum'}).sort_values(by='sum', ascending=False).reset_index()"
   ]
  },
  {
   "cell_type": "markdown",
   "id": "40fe6967",
   "metadata": {},
   "source": [
    "### 4.3. Регион JP"
   ]
  },
  {
   "cell_type": "markdown",
   "id": "4eb1e696",
   "metadata": {},
   "source": [
    "Самые популярные платформы (топ-5)"
   ]
  },
  {
   "cell_type": "code",
   "execution_count": 57,
   "id": "c3a29c4a",
   "metadata": {},
   "outputs": [
    {
     "data": {
      "text/html": [
       "<div>\n",
       "<style scoped>\n",
       "    .dataframe tbody tr th:only-of-type {\n",
       "        vertical-align: middle;\n",
       "    }\n",
       "\n",
       "    .dataframe tbody tr th {\n",
       "        vertical-align: top;\n",
       "    }\n",
       "\n",
       "    .dataframe thead th {\n",
       "        text-align: right;\n",
       "    }\n",
       "</style>\n",
       "<table border=\"1\" class=\"dataframe\">\n",
       "  <thead>\n",
       "    <tr style=\"text-align: right;\">\n",
       "      <th></th>\n",
       "      <th>platform</th>\n",
       "      <th>count</th>\n",
       "      <th>sum</th>\n",
       "    </tr>\n",
       "  </thead>\n",
       "  <tbody>\n",
       "    <tr>\n",
       "      <th>0</th>\n",
       "      <td>3DS</td>\n",
       "      <td>396</td>\n",
       "      <td>87.79</td>\n",
       "    </tr>\n",
       "    <tr>\n",
       "      <th>1</th>\n",
       "      <td>PS3</td>\n",
       "      <td>493</td>\n",
       "      <td>35.29</td>\n",
       "    </tr>\n",
       "    <tr>\n",
       "      <th>2</th>\n",
       "      <td>PSV</td>\n",
       "      <td>411</td>\n",
       "      <td>21.04</td>\n",
       "    </tr>\n",
       "    <tr>\n",
       "      <th>3</th>\n",
       "      <td>PS4</td>\n",
       "      <td>392</td>\n",
       "      <td>15.96</td>\n",
       "    </tr>\n",
       "    <tr>\n",
       "      <th>4</th>\n",
       "      <td>WiiU</td>\n",
       "      <td>147</td>\n",
       "      <td>13.01</td>\n",
       "    </tr>\n",
       "  </tbody>\n",
       "</table>\n",
       "</div>"
      ],
      "text/plain": [
       "  platform  count    sum\n",
       "0      3DS    396  87.79\n",
       "1      PS3    493  35.29\n",
       "2      PSV    411  21.04\n",
       "3      PS4    392  15.96\n",
       "4     WiiU    147  13.01"
      ]
     },
     "execution_count": 57,
     "metadata": {},
     "output_type": "execute_result"
    }
   ],
   "source": [
    "data2.groupby('platform')['jp_sales'].agg({'count', 'sum'}).sort_values(by='sum', ascending=False).reset_index().head(5)\n"
   ]
  },
  {
   "cell_type": "markdown",
   "id": "e75098d1",
   "metadata": {},
   "source": [
    "Самые популярные жанры (топ-5)"
   ]
  },
  {
   "cell_type": "code",
   "execution_count": 58,
   "id": "89b086b2",
   "metadata": {},
   "outputs": [
    {
     "data": {
      "text/html": [
       "<div>\n",
       "<style scoped>\n",
       "    .dataframe tbody tr th:only-of-type {\n",
       "        vertical-align: middle;\n",
       "    }\n",
       "\n",
       "    .dataframe tbody tr th {\n",
       "        vertical-align: top;\n",
       "    }\n",
       "\n",
       "    .dataframe thead th {\n",
       "        text-align: right;\n",
       "    }\n",
       "</style>\n",
       "<table border=\"1\" class=\"dataframe\">\n",
       "  <thead>\n",
       "    <tr style=\"text-align: right;\">\n",
       "      <th></th>\n",
       "      <th>genre</th>\n",
       "      <th>sum</th>\n",
       "    </tr>\n",
       "  </thead>\n",
       "  <tbody>\n",
       "    <tr>\n",
       "      <th>0</th>\n",
       "      <td>Role-Playing</td>\n",
       "      <td>65.44</td>\n",
       "    </tr>\n",
       "    <tr>\n",
       "      <th>1</th>\n",
       "      <td>Action</td>\n",
       "      <td>52.80</td>\n",
       "    </tr>\n",
       "    <tr>\n",
       "      <th>2</th>\n",
       "      <td>Misc</td>\n",
       "      <td>12.86</td>\n",
       "    </tr>\n",
       "    <tr>\n",
       "      <th>3</th>\n",
       "      <td>Simulation</td>\n",
       "      <td>10.41</td>\n",
       "    </tr>\n",
       "    <tr>\n",
       "      <th>4</th>\n",
       "      <td>Fighting</td>\n",
       "      <td>9.44</td>\n",
       "    </tr>\n",
       "  </tbody>\n",
       "</table>\n",
       "</div>"
      ],
      "text/plain": [
       "          genre    sum\n",
       "0  Role-Playing  65.44\n",
       "1        Action  52.80\n",
       "2          Misc  12.86\n",
       "3    Simulation  10.41\n",
       "4      Fighting   9.44"
      ]
     },
     "execution_count": 58,
     "metadata": {},
     "output_type": "execute_result"
    }
   ],
   "source": [
    "data2.groupby('genre')['jp_sales'].agg({'sum'}).sort_values(by='sum', ascending=False).reset_index().head(5)\n"
   ]
  },
  {
   "cell_type": "markdown",
   "id": "7da0d263",
   "metadata": {},
   "source": [
    "Продажи по рейтингу ESRB"
   ]
  },
  {
   "cell_type": "code",
   "execution_count": 59,
   "id": "92844a9b",
   "metadata": {
    "scrolled": true
   },
   "outputs": [
    {
     "data": {
      "text/html": [
       "<div>\n",
       "<style scoped>\n",
       "    .dataframe tbody tr th:only-of-type {\n",
       "        vertical-align: middle;\n",
       "    }\n",
       "\n",
       "    .dataframe tbody tr th {\n",
       "        vertical-align: top;\n",
       "    }\n",
       "\n",
       "    .dataframe thead th {\n",
       "        text-align: right;\n",
       "    }\n",
       "</style>\n",
       "<table border=\"1\" class=\"dataframe\">\n",
       "  <thead>\n",
       "    <tr style=\"text-align: right;\">\n",
       "      <th></th>\n",
       "      <th>rating</th>\n",
       "      <th>sum</th>\n",
       "    </tr>\n",
       "  </thead>\n",
       "  <tbody>\n",
       "    <tr>\n",
       "      <th>0</th>\n",
       "      <td>unknown</td>\n",
       "      <td>108.84</td>\n",
       "    </tr>\n",
       "    <tr>\n",
       "      <th>1</th>\n",
       "      <td>E</td>\n",
       "      <td>28.33</td>\n",
       "    </tr>\n",
       "    <tr>\n",
       "      <th>2</th>\n",
       "      <td>T</td>\n",
       "      <td>26.02</td>\n",
       "    </tr>\n",
       "    <tr>\n",
       "      <th>3</th>\n",
       "      <td>M</td>\n",
       "      <td>21.20</td>\n",
       "    </tr>\n",
       "    <tr>\n",
       "      <th>4</th>\n",
       "      <td>E10+</td>\n",
       "      <td>8.19</td>\n",
       "    </tr>\n",
       "  </tbody>\n",
       "</table>\n",
       "</div>"
      ],
      "text/plain": [
       "    rating     sum\n",
       "0  unknown  108.84\n",
       "1        E   28.33\n",
       "2        T   26.02\n",
       "3        M   21.20\n",
       "4     E10+    8.19"
      ]
     },
     "execution_count": 59,
     "metadata": {},
     "output_type": "execute_result"
    }
   ],
   "source": [
    "data2.groupby('rating')['jp_sales'].agg({'sum'}).sort_values(by='sum', ascending=False).reset_index()"
   ]
  },
  {
   "cell_type": "markdown",
   "id": "b3ed4e88",
   "metadata": {},
   "source": [
    "### 4.4. Общий вывод по портретам пользователей в регионах "
   ]
  },
  {
   "cell_type": "markdown",
   "id": "8e0daa16",
   "metadata": {},
   "source": [
    "Популярность платформ:   \n",
    "* Регион NA: самая популярная платформа - X360. Близкие показатели у PS4, PS3, XOne.\n",
    "* Регион EU: самая популярная платформа - PS4.  Топ-5 платформ в регионах NA и EU одинаковый, отличается лишь порядок.\n",
    "* Регион JP: самая популярная платформа - 3DS. X360 и XOne вообще не входит в топ-5 платформ в отличие от двух других регионов. При этом в топ-5 входит WiiU, которой непопулярна в других регионах.\n",
    "\n",
    "Популярность жанров:   \n",
    "* Регионы NA и EU: топ-5 жанров в регионах одинаковый, отличается лишь 5 позиция: в NA - это Misc, а в EU - Racing\n",
    "* Регион JP: в этом регионе другая картина. Самый популярный жанр - Role-Playing. Action и Misc также в топе, однако также можно увидеть Simulation и Fighting.\n",
    "\n",
    "Рейтинг ESRB в регионах NA и EU не влияет на продажи игр. Самые популярные игры рейтинга M (17+).   \n",
    "А в регионе JP у большинства игр в принципе нет рейтинга ESRB. Игры с рейтингами 10+, 13+, 17+ встречаются практически одинаково."
   ]
  },
  {
   "cell_type": "markdown",
   "id": "b4861674",
   "metadata": {},
   "source": [
    "## 5. Проверка гипотез"
   ]
  },
  {
   "cell_type": "markdown",
   "id": "b6b4da81",
   "metadata": {},
   "source": [
    "### 5.1. Средние пользовательские рейтинги платформ Xbox One и PC одинаковые."
   ]
  },
  {
   "cell_type": "markdown",
   "id": "af05497f",
   "metadata": {},
   "source": [
    "Сформулируем нулевую и альтернативную гипотезы:   \n",
    "Н0 - Средние значения пользовательских рейтингов игр у платформ Xbox One и PC в актуальном периоде равны.   \n",
    "Н1 - Средние значения пользовательских рейтингов игр у платформ Xbox One и PC в актуальном периоде не равны."
   ]
  },
  {
   "cell_type": "markdown",
   "id": "2d146172",
   "metadata": {},
   "source": [
    "В данном случае мы проверяем гипотезу о равенстве средних двух генеральных совокупностей. Используем метод st.ttest_ind()"
   ]
  },
  {
   "cell_type": "code",
   "execution_count": 60,
   "id": "e5a162e4",
   "metadata": {},
   "outputs": [],
   "source": [
    "from scipy import stats as st\n",
    "import numpy as np"
   ]
  },
  {
   "cell_type": "code",
   "execution_count": 61,
   "id": "40187384",
   "metadata": {},
   "outputs": [
    {
     "name": "stdout",
     "output_type": "stream",
     "text": [
      "p-значение: 0.5489537965134912\n",
      "Не получилось отвергнуть нулевую гипотезу\n"
     ]
    }
   ],
   "source": [
    "alpha = 0.05\n",
    "\n",
    "results = st.ttest_ind(data2[~data2['user_score'].isna()].query('platform == \"XOne\"')['user_score'], \\\n",
    "                       data2[~data2['user_score'].isna()].query('platform == \"PC\"')['user_score'],\\\n",
    "                      equal_var= False)\n",
    "\n",
    "print('p-значение:', results.pvalue)\n",
    "\n",
    "if results.pvalue < alpha:\n",
    "    print('Отвергаем нулевую гипотезу')\n",
    "else:\n",
    "    print('Не получилось отвергнуть нулевую гипотезу')"
   ]
  },
  {
   "cell_type": "markdown",
   "id": "22dbbf8a",
   "metadata": {},
   "source": [
    "### 5.2. Средние пользовательские рейтинги жанров Action и Sports разные. "
   ]
  },
  {
   "cell_type": "markdown",
   "id": "0b7500b4",
   "metadata": {},
   "source": [
    "Сформулируем нулевую и альтернативную гипотезы:   \n",
    "Н0 - Средние значения пользовательских рейтингов в актуальном периоде у жанров Action и Sports равны.   \n",
    "Н1 - Средние значения пользовательских рейтингов в актуальном периоде у жанров Action и Sports не равны."
   ]
  },
  {
   "cell_type": "code",
   "execution_count": 62,
   "id": "1da2de8e",
   "metadata": {},
   "outputs": [
    {
     "name": "stdout",
     "output_type": "stream",
     "text": [
      "p-значение: 4.24307776572644e-20\n",
      "Отвергаем нулевую гипотезу\n"
     ]
    }
   ],
   "source": [
    "alpha = 0.05\n",
    "\n",
    "results = st.ttest_ind(data2[~data2['user_score'].isna()].query('genre == \"Action\"')['user_score'],\\\n",
    "                       data2[~data2['user_score'].isna()].query('genre == \"Sports\"')['user_score'],\\\n",
    "                      equal_var= False)\n",
    "\n",
    "print('p-значение:', results.pvalue)\n",
    "\n",
    "if results.pvalue < alpha:\n",
    "    print('Отвергаем нулевую гипотезу')\n",
    "else:\n",
    "    print('Не получилось отвергнуть нулевую гипотезу')"
   ]
  },
  {
   "cell_type": "markdown",
   "id": "b1b4ba3c",
   "metadata": {},
   "source": [
    "### Вывод по статистическому анализу:   \n"
   ]
  },
  {
   "cell_type": "markdown",
   "id": "7d92cc47",
   "metadata": {},
   "source": [
    "Статистический анализ показал, что оценки пользователей для игр на платформах Xbox One и PC существенно не отличаются.      \n",
    "А вот при анализе пользовательских оценок по жанрам Action и Sports мы отвергли нулевую гипотезу о равенстве средних оценок пользователей."
   ]
  },
  {
   "cell_type": "markdown",
   "id": "c7ee51f3",
   "metadata": {},
   "source": [
    "## Общий вывод по исследованию"
   ]
  },
  {
   "cell_type": "markdown",
   "id": "e42fd1e3",
   "metadata": {},
   "source": [
    "В рамках нашего исследования мы пришли к следующим выводам."
   ]
  },
  {
   "cell_type": "markdown",
   "id": "d5340740",
   "metadata": {},
   "source": [
    "1. **Самые успешные платформы за всё время - DS, PS, PS2, PS3, Wii, X360**. Эти платформы росли в продажах в течение 3-5 лет, а уходили с рынка в течение 4-5 лет.\n",
    "2. **Актуальный период** для составления прогноза на 2017 год - **2012-2017 годы**. До этого периода данные показывают резкий скачок выпуска видеоигр, который закончился примерно к 2012 году.   \n",
    "3. Потенциальные платформы, на которые стоит обратить внимание в 2017 году - **PS4 и XOne**.   \n",
    "4. Самая высокие показатели проданных копий видеоигр у X360, Wii, WiiU, PS3, PS4, XOne. Самые худшие показатели у PSV и PSP.\n",
    "5. **Отзывы критиков имеют небольшую положительную корреляцию с глобальными продажами**. При этом нельзя сказать, что критики влияют на уровень продаж видеоигр:   \n",
    "        1) показатель корреляции несущественный, около 0.4;   \n",
    "        2) большие продажи успешных видеоигр могут обуславливаться другими факторами.       \n",
    "   \n",
    "6. Самые прибыльные жанры - **Shooter, Platform, Sports**, а самые низкоприбыльные жанры - **Strategy, Puzzle, Adventure**. Жанры Shooter и Sports популярны на обоих потенциальных платформах.   \n",
    "7. **На продажи в отдельных регионах влияет игровая платформа**. Самая лучшая продаваемость игр в регионе NA на платформу X360, в регионе EU на PS4, а в регионе JP - 3DS. Топ-5 платформ в регионах NA и EU одинаковый, отличается лишь порядок, а в регионе JP X360 и XOne  не входит в топ-5 платформ, но есть WiiU, которая непопулярна в других регионах.\n",
    "8. **Жанровые преподчтения в регионах NA и EU одинаковые, а в регионе JP отличаются**.\n",
    "9. Статистический анализ показал:\n",
    "    * средние показатели пользовательских рейтингов у платформ Xbox One и PC существенно не отличаются;   \n",
    "    * средние показатели пользовательских рейтингов у жанров Action и Sports существенно отличаются.   "
   ]
  }
 ],
 "metadata": {
  "kernelspec": {
   "display_name": "Python 3 (ipykernel)",
   "language": "python",
   "name": "python3"
  },
  "language_info": {
   "codemirror_mode": {
    "name": "ipython",
    "version": 3
   },
   "file_extension": ".py",
   "mimetype": "text/x-python",
   "name": "python",
   "nbconvert_exporter": "python",
   "pygments_lexer": "ipython3",
   "version": "3.9.13"
  },
  "toc": {
   "base_numbering": 1,
   "nav_menu": {},
   "number_sections": true,
   "sideBar": true,
   "skip_h1_title": true,
   "title_cell": "Table of Contents",
   "title_sidebar": "Contents",
   "toc_cell": false,
   "toc_position": {},
   "toc_section_display": true,
   "toc_window_display": false
  }
 },
 "nbformat": 4,
 "nbformat_minor": 5
}
